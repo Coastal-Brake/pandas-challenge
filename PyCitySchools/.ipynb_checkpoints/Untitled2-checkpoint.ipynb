{
 "cells": [
  {
   "cell_type": "code",
   "execution_count": 1,
   "id": "a3fd51d8",
   "metadata": {},
   "outputs": [
    {
     "data": {
      "text/html": [
       "<div>\n",
       "<style scoped>\n",
       "    .dataframe tbody tr th:only-of-type {\n",
       "        vertical-align: middle;\n",
       "    }\n",
       "\n",
       "    .dataframe tbody tr th {\n",
       "        vertical-align: top;\n",
       "    }\n",
       "\n",
       "    .dataframe thead th {\n",
       "        text-align: right;\n",
       "    }\n",
       "</style>\n",
       "<table border=\"1\" class=\"dataframe\">\n",
       "  <thead>\n",
       "    <tr style=\"text-align: right;\">\n",
       "      <th></th>\n",
       "      <th>Student ID</th>\n",
       "      <th>student_name</th>\n",
       "      <th>gender</th>\n",
       "      <th>grade</th>\n",
       "      <th>school_name</th>\n",
       "      <th>reading_score</th>\n",
       "      <th>math_score</th>\n",
       "      <th>School ID</th>\n",
       "      <th>type</th>\n",
       "      <th>size</th>\n",
       "      <th>budget</th>\n",
       "    </tr>\n",
       "  </thead>\n",
       "  <tbody>\n",
       "    <tr>\n",
       "      <th>0</th>\n",
       "      <td>0</td>\n",
       "      <td>Paul Bradley</td>\n",
       "      <td>M</td>\n",
       "      <td>9th</td>\n",
       "      <td>Huang High School</td>\n",
       "      <td>66</td>\n",
       "      <td>79</td>\n",
       "      <td>0</td>\n",
       "      <td>District</td>\n",
       "      <td>2917</td>\n",
       "      <td>1910635</td>\n",
       "    </tr>\n",
       "    <tr>\n",
       "      <th>1</th>\n",
       "      <td>1</td>\n",
       "      <td>Victor Smith</td>\n",
       "      <td>M</td>\n",
       "      <td>12th</td>\n",
       "      <td>Huang High School</td>\n",
       "      <td>94</td>\n",
       "      <td>61</td>\n",
       "      <td>0</td>\n",
       "      <td>District</td>\n",
       "      <td>2917</td>\n",
       "      <td>1910635</td>\n",
       "    </tr>\n",
       "    <tr>\n",
       "      <th>2</th>\n",
       "      <td>2</td>\n",
       "      <td>Kevin Rodriguez</td>\n",
       "      <td>M</td>\n",
       "      <td>12th</td>\n",
       "      <td>Huang High School</td>\n",
       "      <td>90</td>\n",
       "      <td>60</td>\n",
       "      <td>0</td>\n",
       "      <td>District</td>\n",
       "      <td>2917</td>\n",
       "      <td>1910635</td>\n",
       "    </tr>\n",
       "    <tr>\n",
       "      <th>3</th>\n",
       "      <td>3</td>\n",
       "      <td>Dr. Richard Scott</td>\n",
       "      <td>M</td>\n",
       "      <td>12th</td>\n",
       "      <td>Huang High School</td>\n",
       "      <td>67</td>\n",
       "      <td>58</td>\n",
       "      <td>0</td>\n",
       "      <td>District</td>\n",
       "      <td>2917</td>\n",
       "      <td>1910635</td>\n",
       "    </tr>\n",
       "    <tr>\n",
       "      <th>4</th>\n",
       "      <td>4</td>\n",
       "      <td>Bonnie Ray</td>\n",
       "      <td>F</td>\n",
       "      <td>9th</td>\n",
       "      <td>Huang High School</td>\n",
       "      <td>97</td>\n",
       "      <td>84</td>\n",
       "      <td>0</td>\n",
       "      <td>District</td>\n",
       "      <td>2917</td>\n",
       "      <td>1910635</td>\n",
       "    </tr>\n",
       "  </tbody>\n",
       "</table>\n",
       "</div>"
      ],
      "text/plain": [
       "   Student ID       student_name gender grade        school_name  \\\n",
       "0           0       Paul Bradley      M   9th  Huang High School   \n",
       "1           1       Victor Smith      M  12th  Huang High School   \n",
       "2           2    Kevin Rodriguez      M  12th  Huang High School   \n",
       "3           3  Dr. Richard Scott      M  12th  Huang High School   \n",
       "4           4         Bonnie Ray      F   9th  Huang High School   \n",
       "\n",
       "   reading_score  math_score  School ID      type  size   budget  \n",
       "0             66          79          0  District  2917  1910635  \n",
       "1             94          61          0  District  2917  1910635  \n",
       "2             90          60          0  District  2917  1910635  \n",
       "3             67          58          0  District  2917  1910635  \n",
       "4             97          84          0  District  2917  1910635  "
      ]
     },
     "execution_count": 1,
     "metadata": {},
     "output_type": "execute_result"
    }
   ],
   "source": [
    "# Dependencies and Setup\n",
    "import pandas as pd\n",
    "from pathlib import Path\n",
    "\n",
    "# File to Load (Remember to Change These)\n",
    "school_data_to_load = Path(\"Resources/schools_complete.csv\")\n",
    "student_data_to_load = Path(\"Resources/students_complete.csv\")\n",
    "\n",
    "# Read School and Student Data File and store into Pandas DataFrames\n",
    "school_data = pd.read_csv(school_data_to_load)\n",
    "student_data = pd.read_csv(student_data_to_load)\n",
    "\n",
    "# Combine the data into a single dataset.  \n",
    "school_data_complete = pd.merge(student_data, school_data, how=\"left\", on=[\"school_name\", \"school_name\"])\n",
    "school_data_complete.head()"
   ]
  },
  {
   "cell_type": "code",
   "execution_count": 2,
   "id": "122ce969",
   "metadata": {},
   "outputs": [
    {
     "data": {
      "text/plain": [
       "school_name\n",
       "Bailey High School       84.505124\n",
       "Cabrera High School      83.972556\n",
       "Figueroa High School     84.310894\n",
       "Ford High School         84.165687\n",
       "Griffin High School      84.394602\n",
       "Hernandez High School    84.936975\n",
       "Holden High School       85.040506\n",
       "Huang High School        84.240084\n",
       "Johnson High School      84.742448\n",
       "Pena High School         84.719780\n",
       "Rodriguez High School    84.339111\n",
       "Shelton High School      84.326679\n",
       "Thomas High School       84.497705\n",
       "Wilson High School       84.244050\n",
       "Wright High School       84.758929\n",
       "Name: math_score, dtype: float64"
      ]
     },
     "execution_count": 2,
     "metadata": {},
     "output_type": "execute_result"
    }
   ],
   "source": [
    "school_math_scores_mean = school_data_complete[school_data_complete[\"math_score\"] >= 70].groupby('school_name')['math_score'].mean()\n",
    "school_math_scores_mean.head(15)"
   ]
  },
  {
   "cell_type": "code",
   "execution_count": 3,
   "id": "3fd70aef",
   "metadata": {
    "scrolled": true
   },
   "outputs": [
    {
     "data": {
      "text/plain": [
       "Student ID        int64\n",
       "student_name     object\n",
       "gender           object\n",
       "grade            object\n",
       "school_name      object\n",
       "reading_score     int64\n",
       "math_score        int64\n",
       "School ID         int64\n",
       "type             object\n",
       "size              int64\n",
       "budget            int64\n",
       "dtype: object"
      ]
     },
     "execution_count": 3,
     "metadata": {},
     "output_type": "execute_result"
    }
   ],
   "source": [
    "school_data_complete.dtypes"
   ]
  },
  {
   "cell_type": "code",
   "execution_count": 4,
   "id": "17a07028",
   "metadata": {},
   "outputs": [
    {
     "data": {
      "text/plain": [
       "15"
      ]
     },
     "execution_count": 4,
     "metadata": {},
     "output_type": "execute_result"
    }
   ],
   "source": [
    "# Calculate the total number of unique schools\n",
    "school_count = school_data[\"school_name\"].count()\n",
    "school_count"
   ]
  },
  {
   "cell_type": "code",
   "execution_count": 5,
   "id": "b0cb0b5a",
   "metadata": {},
   "outputs": [
    {
     "data": {
      "text/plain": [
       "39170"
      ]
     },
     "execution_count": 5,
     "metadata": {},
     "output_type": "execute_result"
    }
   ],
   "source": [
    "#Calculate the total number of students\n",
    "student_count = school_data[\"size\"].sum()\n",
    "student_count"
   ]
  },
  {
   "cell_type": "code",
   "execution_count": 6,
   "id": "987a21d0",
   "metadata": {},
   "outputs": [
    {
     "data": {
      "text/plain": [
       "24649428"
      ]
     },
     "execution_count": 6,
     "metadata": {},
     "output_type": "execute_result"
    }
   ],
   "source": [
    "#Total budget\n",
    "total_budget = school_data[\"budget\"].sum()\n",
    "total_budget"
   ]
  },
  {
   "cell_type": "code",
   "execution_count": 7,
   "id": "3c785eaf",
   "metadata": {},
   "outputs": [
    {
     "data": {
      "text/plain": [
       "78.98537145774827"
      ]
     },
     "execution_count": 7,
     "metadata": {},
     "output_type": "execute_result"
    }
   ],
   "source": [
    "#Average math score\n",
    "average_math_score = school_data_complete[\"math_score\"].mean()\n",
    "average_math_score"
   ]
  },
  {
   "cell_type": "code",
   "execution_count": 8,
   "id": "81cda626",
   "metadata": {},
   "outputs": [
    {
     "data": {
      "text/plain": [
       "81.87784018381414"
      ]
     },
     "execution_count": 8,
     "metadata": {},
     "output_type": "execute_result"
    }
   ],
   "source": [
    "#Average reading score\n",
    "average_reading_score = school_data_complete[\"reading_score\"].mean()\n",
    "average_reading_score"
   ]
  },
  {
   "cell_type": "code",
   "execution_count": 9,
   "id": "1caa2af5",
   "metadata": {},
   "outputs": [
    {
     "name": "stdout",
     "output_type": "stream",
     "text": [
      "74.9808526933878\n"
     ]
    }
   ],
   "source": [
    "# Use the following to calculate the percentage of students who passed math (math scores greather than or equal to 70)\n",
    "passing_math_count = school_data_complete[(school_data_complete[\"math_score\"] >= 70)].count()[\"student_name\"]\n",
    "passing_math_percentage = passing_math_count / student_count * 100\n",
    "print(passing_math_percentage)"
   ]
  },
  {
   "cell_type": "code",
   "execution_count": 10,
   "id": "d8a7a278",
   "metadata": {},
   "outputs": [
    {
     "data": {
      "text/plain": [
       "85.80546336482001"
      ]
     },
     "execution_count": 10,
     "metadata": {},
     "output_type": "execute_result"
    }
   ],
   "source": [
    "# Calculate the percentage of students who passed reading (hint: look at how the math percentage was calculated)  \n",
    "passing_reading_count = school_data_complete[(school_data_complete[\"reading_score\"] >= 70)].count()[\"student_name\"]\n",
    "passing_reading_percentage = passing_reading_count / float(student_count) * 100\n",
    "passing_reading_percentage"
   ]
  },
  {
   "cell_type": "code",
   "execution_count": 11,
   "id": "cf8d7468",
   "metadata": {},
   "outputs": [
    {
     "data": {
      "text/plain": [
       "65.17232575950983"
      ]
     },
     "execution_count": 11,
     "metadata": {},
     "output_type": "execute_result"
    }
   ],
   "source": [
    "# Use the following to calculate the percentage of students that passed math and reading\n",
    "passing_math_reading_count = school_data_complete[\n",
    "    (school_data_complete[\"math_score\"] >= 70) & (school_data_complete[\"reading_score\"] >= 70)\n",
    "].count()[\"student_name\"]\n",
    "overall_passing_rate = passing_math_reading_count /  float(student_count) * 100\n",
    "overall_passing_rate"
   ]
  },
  {
   "cell_type": "code",
   "execution_count": 12,
   "id": "0da3c9d4",
   "metadata": {},
   "outputs": [
    {
     "data": {
      "text/html": [
       "<div>\n",
       "<style scoped>\n",
       "    .dataframe tbody tr th:only-of-type {\n",
       "        vertical-align: middle;\n",
       "    }\n",
       "\n",
       "    .dataframe tbody tr th {\n",
       "        vertical-align: top;\n",
       "    }\n",
       "\n",
       "    .dataframe thead th {\n",
       "        text-align: right;\n",
       "    }\n",
       "</style>\n",
       "<table border=\"1\" class=\"dataframe\">\n",
       "  <thead>\n",
       "    <tr style=\"text-align: right;\">\n",
       "      <th></th>\n",
       "      <th>Total Schools</th>\n",
       "      <th>Total Students</th>\n",
       "      <th>Total Budget</th>\n",
       "      <th>Average Math Score</th>\n",
       "      <th>Average Reading Score</th>\n",
       "      <th>% Passing Math</th>\n",
       "      <th>% Passing Reading</th>\n",
       "      <th>% Passing Math and Reading</th>\n",
       "    </tr>\n",
       "  </thead>\n",
       "  <tbody>\n",
       "    <tr>\n",
       "      <th>District Summary</th>\n",
       "      <td>15</td>\n",
       "      <td>39,170</td>\n",
       "      <td>$24,649,428.00</td>\n",
       "      <td>78.985371</td>\n",
       "      <td>81.87784</td>\n",
       "      <td>74.980853</td>\n",
       "      <td>85.805463</td>\n",
       "      <td>65.172326</td>\n",
       "    </tr>\n",
       "  </tbody>\n",
       "</table>\n",
       "</div>"
      ],
      "text/plain": [
       "                  Total Schools Total Students    Total Budget  \\\n",
       "District Summary             15         39,170  $24,649,428.00   \n",
       "\n",
       "                  Average Math Score  Average Reading Score  % Passing Math  \\\n",
       "District Summary           78.985371               81.87784       74.980853   \n",
       "\n",
       "                  % Passing Reading  % Passing Math and Reading  \n",
       "District Summary          85.805463                   65.172326  "
      ]
     },
     "execution_count": 12,
     "metadata": {},
     "output_type": "execute_result"
    }
   ],
   "source": [
    "# Create a high-level snapshot of the district's key metrics in a DataFrame\n",
    "district_summary = pd.DataFrame(\n",
    "            {\n",
    "            \"Total Schools\" : [15],\n",
    "            \"Total Students\" : [39170],\n",
    "            \"Total Budget\" : [24649428],\n",
    "            \"Average Math Score\" : [78.98537145774827],\n",
    "            \"Average Reading Score\" : [81.87784018381414],\n",
    "            \"% Passing Math\" : [74.9808526933878],\n",
    "            \"% Passing Reading\" : [85.80546336482001],\n",
    "            \"% Passing Math and Reading\" : [65.17232575950983]   \n",
    "            },\n",
    "            index = [\"District Summary\"])\n",
    "\n",
    "# Formatting\n",
    "district_summary[\"Total Students\"] = district_summary[\"Total Students\"].map(\"{:,}\".format)\n",
    "district_summary[\"Total Budget\"] = district_summary[\"Total Budget\"].map(\"${:,.2f}\".format)\n",
    "\n",
    "# Display the DataFrame\n",
    "district_summary\n"
   ]
  },
  {
   "cell_type": "code",
   "execution_count": 13,
   "id": "16e8ac96",
   "metadata": {},
   "outputs": [
    {
     "data": {
      "text/plain": [
       "0     District\n",
       "1     District\n",
       "2      Charter\n",
       "3     District\n",
       "4      Charter\n",
       "5      Charter\n",
       "6      Charter\n",
       "7     District\n",
       "8      Charter\n",
       "9      Charter\n",
       "10     Charter\n",
       "11    District\n",
       "12    District\n",
       "13    District\n",
       "14     Charter\n",
       "Name: type, dtype: object"
      ]
     },
     "execution_count": 13,
     "metadata": {},
     "output_type": "execute_result"
    }
   ],
   "source": [
    "# Use the code provided to select all of the school types\n",
    "school_types = school_data[\"type\"]\n",
    "school_types\n",
    "\n",
    "#school_types = school_data[\"type\"]\n",
    "\n",
    "# Convert the Series to a DataFrame\n",
    "#school_types_df = pd.DataFrame(school_types, columns=[\"School Type\"])"
   ]
  },
  {
   "cell_type": "code",
   "execution_count": 14,
   "id": "9fff29c4",
   "metadata": {},
   "outputs": [],
   "source": [
    "school_names = [\"Huang High School\", \"Figueroa High School\", \"Shelton High School\", \"Hernandez High School\",\n",
    "                \"Hernandez High School\",\"Wilson High School\", \"Cabrera High School\", \"Bailey High School\", \n",
    "                \"Holden High School\", \"Pena High School\", \"Wright High School\", \"Rodriguez High School\", \n",
    "                \"Johnson High School\", \"Ford High School\", \"Thomas High School\"]"
   ]
  },
  {
   "cell_type": "code",
   "execution_count": 15,
   "id": "728989d8",
   "metadata": {},
   "outputs": [
    {
     "name": "stdout",
     "output_type": "stream",
     "text": [
      "School Name    object\n",
      "dtype: object\n"
     ]
    },
    {
     "data": {
      "text/html": [
       "<div>\n",
       "<style scoped>\n",
       "    .dataframe tbody tr th:only-of-type {\n",
       "        vertical-align: middle;\n",
       "    }\n",
       "\n",
       "    .dataframe tbody tr th {\n",
       "        vertical-align: top;\n",
       "    }\n",
       "\n",
       "    .dataframe thead th {\n",
       "        text-align: right;\n",
       "    }\n",
       "</style>\n",
       "<table border=\"1\" class=\"dataframe\">\n",
       "  <thead>\n",
       "    <tr style=\"text-align: right;\">\n",
       "      <th></th>\n",
       "      <th>School Name</th>\n",
       "    </tr>\n",
       "  </thead>\n",
       "  <tbody>\n",
       "    <tr>\n",
       "      <th>0</th>\n",
       "      <td>Huang High School</td>\n",
       "    </tr>\n",
       "    <tr>\n",
       "      <th>1</th>\n",
       "      <td>Figueroa High School</td>\n",
       "    </tr>\n",
       "    <tr>\n",
       "      <th>2</th>\n",
       "      <td>Shelton High School</td>\n",
       "    </tr>\n",
       "    <tr>\n",
       "      <th>3</th>\n",
       "      <td>Hernandez High School</td>\n",
       "    </tr>\n",
       "    <tr>\n",
       "      <th>4</th>\n",
       "      <td>Griffin High School</td>\n",
       "    </tr>\n",
       "    <tr>\n",
       "      <th>5</th>\n",
       "      <td>Wilson High School</td>\n",
       "    </tr>\n",
       "    <tr>\n",
       "      <th>6</th>\n",
       "      <td>Cabrera High School</td>\n",
       "    </tr>\n",
       "    <tr>\n",
       "      <th>7</th>\n",
       "      <td>Bailey High School</td>\n",
       "    </tr>\n",
       "    <tr>\n",
       "      <th>8</th>\n",
       "      <td>Holden High School</td>\n",
       "    </tr>\n",
       "    <tr>\n",
       "      <th>9</th>\n",
       "      <td>Pena High School</td>\n",
       "    </tr>\n",
       "    <tr>\n",
       "      <th>10</th>\n",
       "      <td>Wright High School</td>\n",
       "    </tr>\n",
       "    <tr>\n",
       "      <th>11</th>\n",
       "      <td>Rodriguez High School</td>\n",
       "    </tr>\n",
       "    <tr>\n",
       "      <th>12</th>\n",
       "      <td>Johnson High School</td>\n",
       "    </tr>\n",
       "    <tr>\n",
       "      <th>13</th>\n",
       "      <td>Ford High School</td>\n",
       "    </tr>\n",
       "    <tr>\n",
       "      <th>14</th>\n",
       "      <td>Thomas High School</td>\n",
       "    </tr>\n",
       "  </tbody>\n",
       "</table>\n",
       "</div>"
      ],
      "text/plain": [
       "              School Name\n",
       "0       Huang High School\n",
       "1    Figueroa High School\n",
       "2     Shelton High School\n",
       "3   Hernandez High School\n",
       "4     Griffin High School\n",
       "5      Wilson High School\n",
       "6     Cabrera High School\n",
       "7      Bailey High School\n",
       "8      Holden High School\n",
       "9        Pena High School\n",
       "10     Wright High School\n",
       "11  Rodriguez High School\n",
       "12    Johnson High School\n",
       "13       Ford High School\n",
       "14     Thomas High School"
      ]
     },
     "execution_count": 15,
     "metadata": {},
     "output_type": "execute_result"
    }
   ],
   "source": [
    "# School Name\n",
    "school_name_data = school_data[\"school_name\"]\n",
    "math_score_avg_data = {'School Name': school_name_data}\n",
    "school_name_df = pd.DataFrame(math_score_avg_data, index=None)\n",
    "print(school_name_df.dtypes)\n",
    "school_name_df.head(20)"
   ]
  },
  {
   "cell_type": "code",
   "execution_count": 16,
   "id": "65f11b01",
   "metadata": {},
   "outputs": [
    {
     "data": {
      "text/plain": [
       "Student Count Per School    int64\n",
       "dtype: object"
      ]
     },
     "execution_count": 16,
     "metadata": {},
     "output_type": "execute_result"
    }
   ],
   "source": [
    "# Calculate the total student count per school\n",
    "student_count = []\n",
    "\n",
    "for school_name in school_names:\n",
    "    school_df = school_data_complete[school_data_complete[\"school_name\"] == school_name]\n",
    "    count = school_df[\"student_name\"].count()\n",
    "    student_count.append(count)\n",
    "\n",
    "student_count_data = { 'Student Count Per School': student_count}\n",
    "per_school_student_count = pd.DataFrame(student_count_data, index=school_names)\n",
    "\n",
    "# Alternatively, you can create the DataFrame with a specific column name:\n",
    "per_school_student_count = pd.DataFrame(student_count_data, columns=['Student Count Per School'])\n",
    "\n",
    "per_school_student_count.dtypes"
   ]
  },
  {
   "cell_type": "code",
   "execution_count": 17,
   "id": "a7036f4b",
   "metadata": {},
   "outputs": [
    {
     "name": "stdout",
     "output_type": "stream",
     "text": [
      "int64\n",
      "float64\n"
     ]
    }
   ],
   "source": [
    "# Calculate the total school budget and per capita spending per school\n",
    "per_school_budget = school_data.iloc[:, 4]\n",
    "per_school_capita = school_data.iloc[:, 4] / school_data.iloc[:, 3]\n",
    "\n",
    "# Print data types\n",
    "print(per_school_budget.dtypes)\n",
    "print(per_school_capita.dtypes)"
   ]
  },
  {
   "cell_type": "code",
   "execution_count": 18,
   "id": "28dc10ad",
   "metadata": {},
   "outputs": [
    {
     "name": "stdout",
     "output_type": "stream",
     "text": [
      "Math Score Avg Per School    float64\n",
      "dtype: object\n"
     ]
    },
    {
     "data": {
      "text/plain": [
       "Reading Score Avg Per School    float64\n",
       "dtype: object"
      ]
     },
     "execution_count": 18,
     "metadata": {},
     "output_type": "execute_result"
    }
   ],
   "source": [
    "math_score_avg = []\n",
    "# Calculate the average math score for each school\n",
    "for school_name in school_names:\n",
    "    school_df = school_data_complete[school_data_complete[\"school_name\"] == school_name]\n",
    "    avg_score = school_df[\"math_score\"].mean()\n",
    "    math_score_avg.append(avg_score)\n",
    "\n",
    "#print(math_score_avg)\n",
    "math_score_avg_data = {'Math Score Avg Per School': math_score_avg}\n",
    "per_school_math_df = pd.DataFrame(math_score_avg_data, index=None)\n",
    "per_school_math_df\n",
    "\n",
    "reading_score_avg = []\n",
    "# Calculate the average reading score for each school\n",
    "for school_name in school_names:\n",
    "    school_df = school_data_complete[school_data_complete[\"school_name\"] == school_name]\n",
    "    avg_score = school_df[\"reading_score\"].mean()\n",
    "    reading_score_avg.append(avg_score)\n",
    "\n",
    "#print(reading_score_avg)\n",
    "# Create a DataFrame to store the results\n",
    "reading_score_avg_data = {'Reading Score Avg Per School': reading_score_avg}\n",
    "per_school_reading_df = pd.DataFrame(reading_score_avg_data, index=None)\n",
    "\n",
    "print(per_school_math_df.dtypes)\n",
    "per_school_reading_df.dtypes\n",
    "#per_school_math.dtypes"
   ]
  },
  {
   "cell_type": "code",
   "execution_count": 19,
   "id": "516ab0ec",
   "metadata": {},
   "outputs": [
    {
     "name": "stdout",
     "output_type": "stream",
     "text": [
      "Per School Math    int64\n",
      "dtype: object\n"
     ]
    }
   ],
   "source": [
    "# Calculate the number of students per school with math scores of 70 or higher\n",
    "school_passable_math_students = []\n",
    "\n",
    "# Loop through each school and calculate the number of students passing math\n",
    "for school_name in school_names:\n",
    "    school_df = school_data_complete[school_data_complete[\"school_name\"] == school_name]\n",
    "    students_pass_math = (school_df[\"math_score\"] >= 70).sum()\n",
    "    school_passable_math_students.append(students_pass_math)\n",
    "\n",
    "school_students_passing_math_data = {'Per School Math': school_passable_math_students}\n",
    "school_students_passing_math_df = pd.DataFrame(school_students_passing_math_data, index=school_names)\n",
    "\n",
    "print(school_students_passing_math_df.dtypes)"
   ]
  },
  {
   "cell_type": "code",
   "execution_count": 20,
   "id": "0bee6f1d",
   "metadata": {},
   "outputs": [
    {
     "data": {
      "text/plain": [
       "Per School Reading    int64\n",
       "dtype: object"
      ]
     },
     "execution_count": 20,
     "metadata": {},
     "output_type": "execute_result"
    }
   ],
   "source": [
    "school_passable_reading_students = []\n",
    "\n",
    "# Loop through each school and calculate the number of students passing reading\n",
    "for school_name in school_names:\n",
    "    school_df = school_data_complete[school_data_complete[\"school_name\"] == school_name]\n",
    "    students_pass_reading = (school_df[\"reading_score\"] >= 70).sum()\n",
    "    school_passable_reading_students.append(students_pass_reading)\n",
    "\n",
    "# Create a DataFrame to store the results\n",
    "students_passing_reading_data = {'Per School Reading': school_passable_reading_students}\n",
    "school_students_passing_reading_df = pd.DataFrame(students_passing_reading_data, index=school_names)\n",
    "\n",
    "\n",
    "students_passing_reading=school_students_passing_reading_df.sum\n",
    "#students_passing_reading_data = {'Per School Reading': students_passing_reading.sum}\n",
    "#students_passing_reading_df = pd.DataFrame(students_passing_reading_data, index=[\"Total\"])\n",
    "\n",
    "school_students_passing_reading_df.dtypes"
   ]
  },
  {
   "cell_type": "code",
   "execution_count": 21,
   "id": "906d7172",
   "metadata": {},
   "outputs": [
    {
     "data": {
      "text/plain": [
       "Students Passing Math and Reading    int64\n",
       "dtype: object"
      ]
     },
     "execution_count": 21,
     "metadata": {},
     "output_type": "execute_result"
    }
   ],
   "source": [
    "# Use the provided code to calculate the number of students per school that passed both math and reading with scores of 70 or higher\n",
    "students_passing_math_and_reading = school_data_complete[\n",
    "    (school_data_complete[\"reading_score\"] >= 70) & (school_data_complete[\"math_score\"] >= 70)\n",
    "]\n",
    "school_students_passing_math_and_reading = students_passing_math_and_reading.groupby([\"school_name\"]).size()\n",
    "students_passing_math_and_reading.head()\n",
    "\n",
    "school_students_passing_math_and_reading_df = pd.DataFrame({'Students Passing Math and Reading': school_students_passing_math_and_reading}, index=school_names)\n",
    "school_students_passing_math_and_reading_df.dtypes"
   ]
  },
  {
   "cell_type": "code",
   "execution_count": 22,
   "id": "ec9dcb8a",
   "metadata": {},
   "outputs": [],
   "source": [
    "school_students_passing_math_df['Per School Math'] = school_students_passing_math_df['Per School Math'].astype(int)"
   ]
  },
  {
   "cell_type": "code",
   "execution_count": 23,
   "id": "639bab3c",
   "metadata": {},
   "outputs": [],
   "source": [
    "per_school_student_count['Student Count Per School']=per_school_student_count['Student Count Per School'].astype(int)"
   ]
  },
  {
   "cell_type": "code",
   "execution_count": 29,
   "id": "bfd83173",
   "metadata": {},
   "outputs": [],
   "source": [
    "# Use the provided code to calculate the passing rates\n",
    "#per_school_passing_math =  school_students_passing_math / per_school_student_count * 100\n",
    "per_school_passing_math= (school_students_passing_math_df['Per School Math'] / per_school_student_count['Student Count Per School']) * 100\n",
    "per_school_passing_reading =(school_students_passing_reading_df['Per School Reading'] / per_school_student_count['Student Count Per School']) * 100\n",
    "overall_passing_rate = (school_students_passing_math_and_reading_df['Students Passing Math and Reading'] / per_school_student_count['Student Count Per School']) * 10"
   ]
  },
  {
   "cell_type": "code",
   "execution_count": 30,
   "id": "57e6f01f",
   "metadata": {},
   "outputs": [],
   "source": [
    "#per_school_passing_math = (school_students_passing_math_df['Per School Math'] / per_school_student_count['Student Count Per School']) * 100\n",
    "#print(per_school_passing_math)\n"
   ]
  },
  {
   "cell_type": "code",
   "execution_count": 31,
   "id": "5d51bc75",
   "metadata": {
    "scrolled": true
   },
   "outputs": [
    {
     "data": {
      "text/plain": [
       "(15,)"
      ]
     },
     "execution_count": 31,
     "metadata": {},
     "output_type": "execute_result"
    }
   ],
   "source": [
    "school_students_passing_reading_df['Per School Reading'].shape\n",
    "                             "
   ]
  },
  {
   "cell_type": "code",
   "execution_count": 32,
   "id": "5206c621",
   "metadata": {},
   "outputs": [
    {
     "name": "stdout",
     "output_type": "stream",
     "text": [
      "              School Name\n",
      "0       Huang High School\n",
      "1    Figueroa High School\n",
      "2     Shelton High School\n",
      "3   Hernandez High School\n",
      "4     Griffin High School\n",
      "5      Wilson High School\n",
      "6     Cabrera High School\n",
      "7      Bailey High School\n",
      "8      Holden High School\n",
      "9        Pena High School\n",
      "10     Wright High School\n",
      "11  Rodriguez High School\n",
      "12    Johnson High School\n",
      "13       Ford High School\n",
      "14     Thomas High School\n",
      "0     District\n",
      "1     District\n",
      "2      Charter\n",
      "3     District\n",
      "4      Charter\n",
      "5      Charter\n",
      "6      Charter\n",
      "7     District\n",
      "8      Charter\n",
      "9      Charter\n",
      "10     Charter\n",
      "11    District\n",
      "12    District\n",
      "13    District\n",
      "14     Charter\n",
      "Name: type, dtype: object\n",
      "                       Per School Math\n",
      "Huang High School                 1916\n",
      "Figueroa High School              1946\n",
      "Shelton High School               1653\n",
      "Hernandez High School             3094\n",
      "Hernandez High School             3094\n",
      "Wilson High School                2143\n",
      "Cabrera High School               1749\n",
      "Bailey High School                3318\n",
      "Holden High School                 395\n",
      "Pena High School                   910\n",
      "Wright High School                1680\n",
      "Rodriguez High School             2654\n",
      "Johnson High School               3145\n",
      "Ford High School                  1871\n",
      "Thomas High School                1525\n",
      "                       Per School Reading\n",
      "Huang High School                    2372\n",
      "Figueroa High School                 2381\n",
      "Shelton High School                  1688\n",
      "Hernandez High School                3748\n",
      "Hernandez High School                3748\n",
      "Wilson High School                   2204\n",
      "Cabrera High School                  1803\n",
      "Bailey High School                   4077\n",
      "Holden High School                    411\n",
      "Pena High School                      923\n",
      "Wright High School                   1739\n",
      "Rodriguez High School                3208\n",
      "Johnson High School                  3867\n",
      "Ford High School                     2172\n",
      "Thomas High School                   1591\n",
      "                       Students Passing Math and Reading\n",
      "Huang High School                                   1561\n",
      "Figueroa High School                                1569\n",
      "Shelton High School                                 1583\n",
      "Hernandez High School                               2481\n",
      "Hernandez High School                               2481\n",
      "Wilson High School                                  2068\n",
      "Cabrera High School                                 1697\n",
      "Bailey High School                                  2719\n",
      "Holden High School                                   381\n",
      "Pena High School                                     871\n",
      "Wright High School                                  1626\n",
      "Rodriguez High School                               2119\n",
      "Johnson High School                                 2549\n",
      "Ford High School                                    1487\n",
      "Thomas High School                                  1487\n",
      "0                       NaN\n",
      "1                       NaN\n",
      "2                       NaN\n",
      "3                       NaN\n",
      "4                       NaN\n",
      "5                       NaN\n",
      "6                       NaN\n",
      "7                       NaN\n",
      "8                       NaN\n",
      "9                       NaN\n",
      "10                      NaN\n",
      "11                      NaN\n",
      "12                      NaN\n",
      "13                      NaN\n",
      "14                      NaN\n",
      "Bailey High School      NaN\n",
      "Cabrera High School     NaN\n",
      "Figueroa High School    NaN\n",
      "Ford High School        NaN\n",
      "Hernandez High School   NaN\n",
      "Hernandez High School   NaN\n",
      "Holden High School      NaN\n",
      "Huang High School       NaN\n",
      "Johnson High School     NaN\n",
      "Pena High School        NaN\n",
      "Rodriguez High School   NaN\n",
      "Shelton High School     NaN\n",
      "Thomas High School      NaN\n",
      "Wilson High School      NaN\n",
      "Wright High School      NaN\n",
      "dtype: float64\n"
     ]
    }
   ],
   "source": [
    "print(school_name_df)\n",
    "print(school_types)\n",
    "print(school_students_passing_math_df)\n",
    "print(school_students_passing_reading_df)\n",
    "print(school_students_passing_math_and_reading_df)\n",
    "print(per_school_passing_math )\n"
   ]
  },
  {
   "cell_type": "code",
   "execution_count": 33,
   "id": "3d7f1121",
   "metadata": {},
   "outputs": [
    {
     "ename": "NameError",
     "evalue": "name 'school_types_df' is not defined",
     "output_type": "error",
     "traceback": [
      "\u001b[0;31m---------------------------------------------------------------------------\u001b[0m",
      "\u001b[0;31mNameError\u001b[0m                                 Traceback (most recent call last)",
      "Cell \u001b[0;32mIn[33], line 11\u001b[0m\n\u001b[1;32m      4\u001b[0m overall_passing_rate\u001b[38;5;241m.\u001b[39mreset_index(drop\u001b[38;5;241m=\u001b[39m\u001b[38;5;28;01mTrue\u001b[39;00m, inplace\u001b[38;5;241m=\u001b[39m\u001b[38;5;28;01mTrue\u001b[39;00m)\n\u001b[1;32m      6\u001b[0m \u001b[38;5;66;03m# Concatenate the DataFrames\u001b[39;00m\n\u001b[1;32m      7\u001b[0m per_school_summary \u001b[38;5;241m=\u001b[39m pd\u001b[38;5;241m.\u001b[39mconcat([\n\u001b[1;32m      8\u001b[0m     per_school_passing_math,\n\u001b[1;32m      9\u001b[0m     per_school_passing_reading,\n\u001b[1;32m     10\u001b[0m     overall_passing_rate,\n\u001b[0;32m---> 11\u001b[0m     \u001b[43mschool_types_df\u001b[49m\n\u001b[1;32m     12\u001b[0m ], axis\u001b[38;5;241m=\u001b[39m\u001b[38;5;241m1\u001b[39m)\n\u001b[1;32m     15\u001b[0m \u001b[38;5;28mprint\u001b[39m(per_school_summary)\n",
      "\u001b[0;31mNameError\u001b[0m: name 'school_types_df' is not defined"
     ]
    }
   ],
   "source": [
    "# Reset the index of DataFrames\n",
    "per_school_passing_math.reset_index(drop=True, inplace=True)\n",
    "per_school_passing_reading.reset_index(drop=True, inplace=True)\n",
    "overall_passing_rate.reset_index(drop=True, inplace=True)\n",
    "\n",
    "# Concatenate the DataFrames\n",
    "per_school_summary = pd.concat([\n",
    "    per_school_passing_math,\n",
    "    per_school_passing_reading,\n",
    "    overall_passing_rate,\n",
    "    school_types_df\n",
    "], axis=1)\n",
    "\n",
    "\n",
    "print(per_school_summary)"
   ]
  },
  {
   "cell_type": "code",
   "execution_count": null,
   "id": "21f4646f",
   "metadata": {},
   "outputs": [],
   "source": [
    "  #school_name_df,\n",
    "    #school_types,\n",
    "    #school_students_passing_math_df,\n",
    "    #school_students_passing_reading_df,"
   ]
  }
 ],
 "metadata": {
  "kernelspec": {
   "display_name": "Python 3 (ipykernel)",
   "language": "python",
   "name": "python3"
  },
  "language_info": {
   "codemirror_mode": {
    "name": "ipython",
    "version": 3
   },
   "file_extension": ".py",
   "mimetype": "text/x-python",
   "name": "python",
   "nbconvert_exporter": "python",
   "pygments_lexer": "ipython3",
   "version": "3.10.13"
  }
 },
 "nbformat": 4,
 "nbformat_minor": 5
}
