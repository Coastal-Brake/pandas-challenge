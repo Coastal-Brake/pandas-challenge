{
 "cells": [
  {
   "cell_type": "code",
   "execution_count": 1,
   "id": "8e280fd2",
   "metadata": {},
   "outputs": [
    {
     "data": {
      "text/html": [
       "<div>\n",
       "<style scoped>\n",
       "    .dataframe tbody tr th:only-of-type {\n",
       "        vertical-align: middle;\n",
       "    }\n",
       "\n",
       "    .dataframe tbody tr th {\n",
       "        vertical-align: top;\n",
       "    }\n",
       "\n",
       "    .dataframe thead th {\n",
       "        text-align: right;\n",
       "    }\n",
       "</style>\n",
       "<table border=\"1\" class=\"dataframe\">\n",
       "  <thead>\n",
       "    <tr style=\"text-align: right;\">\n",
       "      <th></th>\n",
       "      <th>Student ID</th>\n",
       "      <th>student_name</th>\n",
       "      <th>gender</th>\n",
       "      <th>grade</th>\n",
       "      <th>school_name</th>\n",
       "      <th>reading_score</th>\n",
       "      <th>math_score</th>\n",
       "      <th>School ID</th>\n",
       "      <th>type</th>\n",
       "      <th>size</th>\n",
       "      <th>budget</th>\n",
       "    </tr>\n",
       "  </thead>\n",
       "  <tbody>\n",
       "    <tr>\n",
       "      <th>0</th>\n",
       "      <td>0</td>\n",
       "      <td>Paul Bradley</td>\n",
       "      <td>M</td>\n",
       "      <td>9th</td>\n",
       "      <td>Huang High School</td>\n",
       "      <td>66</td>\n",
       "      <td>79</td>\n",
       "      <td>0</td>\n",
       "      <td>District</td>\n",
       "      <td>2917</td>\n",
       "      <td>1910635</td>\n",
       "    </tr>\n",
       "    <tr>\n",
       "      <th>1</th>\n",
       "      <td>1</td>\n",
       "      <td>Victor Smith</td>\n",
       "      <td>M</td>\n",
       "      <td>12th</td>\n",
       "      <td>Huang High School</td>\n",
       "      <td>94</td>\n",
       "      <td>61</td>\n",
       "      <td>0</td>\n",
       "      <td>District</td>\n",
       "      <td>2917</td>\n",
       "      <td>1910635</td>\n",
       "    </tr>\n",
       "    <tr>\n",
       "      <th>2</th>\n",
       "      <td>2</td>\n",
       "      <td>Kevin Rodriguez</td>\n",
       "      <td>M</td>\n",
       "      <td>12th</td>\n",
       "      <td>Huang High School</td>\n",
       "      <td>90</td>\n",
       "      <td>60</td>\n",
       "      <td>0</td>\n",
       "      <td>District</td>\n",
       "      <td>2917</td>\n",
       "      <td>1910635</td>\n",
       "    </tr>\n",
       "    <tr>\n",
       "      <th>3</th>\n",
       "      <td>3</td>\n",
       "      <td>Dr. Richard Scott</td>\n",
       "      <td>M</td>\n",
       "      <td>12th</td>\n",
       "      <td>Huang High School</td>\n",
       "      <td>67</td>\n",
       "      <td>58</td>\n",
       "      <td>0</td>\n",
       "      <td>District</td>\n",
       "      <td>2917</td>\n",
       "      <td>1910635</td>\n",
       "    </tr>\n",
       "    <tr>\n",
       "      <th>4</th>\n",
       "      <td>4</td>\n",
       "      <td>Bonnie Ray</td>\n",
       "      <td>F</td>\n",
       "      <td>9th</td>\n",
       "      <td>Huang High School</td>\n",
       "      <td>97</td>\n",
       "      <td>84</td>\n",
       "      <td>0</td>\n",
       "      <td>District</td>\n",
       "      <td>2917</td>\n",
       "      <td>1910635</td>\n",
       "    </tr>\n",
       "  </tbody>\n",
       "</table>\n",
       "</div>"
      ],
      "text/plain": [
       "   Student ID       student_name gender grade        school_name  \\\n",
       "0           0       Paul Bradley      M   9th  Huang High School   \n",
       "1           1       Victor Smith      M  12th  Huang High School   \n",
       "2           2    Kevin Rodriguez      M  12th  Huang High School   \n",
       "3           3  Dr. Richard Scott      M  12th  Huang High School   \n",
       "4           4         Bonnie Ray      F   9th  Huang High School   \n",
       "\n",
       "   reading_score  math_score  School ID      type  size   budget  \n",
       "0             66          79          0  District  2917  1910635  \n",
       "1             94          61          0  District  2917  1910635  \n",
       "2             90          60          0  District  2917  1910635  \n",
       "3             67          58          0  District  2917  1910635  \n",
       "4             97          84          0  District  2917  1910635  "
      ]
     },
     "execution_count": 1,
     "metadata": {},
     "output_type": "execute_result"
    }
   ],
   "source": [
    "# Dependencies and Setup\n",
    "import pandas as pd\n",
    "from pathlib import Path\n",
    "\n",
    "# File to Load (Remember to Change These)\n",
    "school_data_to_load = Path(\"Resources/schools_complete.csv\")\n",
    "student_data_to_load = Path(\"Resources/students_complete.csv\")\n",
    "\n",
    "# Read School and Student Data File and store into Pandas DataFrames\n",
    "school_data = pd.read_csv(school_data_to_load)\n",
    "student_data = pd.read_csv(student_data_to_load)\n",
    "\n",
    "# Combine the data into a single dataset.  \n",
    "school_data_complete = pd.merge(student_data, school_data, how=\"left\", on=[\"school_name\", \"school_name\"])\n",
    "school_data_complete.head()"
   ]
  },
  {
   "cell_type": "code",
   "execution_count": 2,
   "id": "c63c88bc",
   "metadata": {
    "scrolled": true
   },
   "outputs": [
    {
     "data": {
      "text/html": [
       "<div>\n",
       "<style scoped>\n",
       "    .dataframe tbody tr th:only-of-type {\n",
       "        vertical-align: middle;\n",
       "    }\n",
       "\n",
       "    .dataframe tbody tr th {\n",
       "        vertical-align: top;\n",
       "    }\n",
       "\n",
       "    .dataframe thead th {\n",
       "        text-align: right;\n",
       "    }\n",
       "</style>\n",
       "<table border=\"1\" class=\"dataframe\">\n",
       "  <thead>\n",
       "    <tr style=\"text-align: right;\">\n",
       "      <th></th>\n",
       "      <th>School ID</th>\n",
       "      <th>school_name</th>\n",
       "      <th>type</th>\n",
       "      <th>size</th>\n",
       "      <th>budget</th>\n",
       "    </tr>\n",
       "  </thead>\n",
       "  <tbody>\n",
       "    <tr>\n",
       "      <th>0</th>\n",
       "      <td>0</td>\n",
       "      <td>Huang High School</td>\n",
       "      <td>District</td>\n",
       "      <td>2917</td>\n",
       "      <td>1910635</td>\n",
       "    </tr>\n",
       "    <tr>\n",
       "      <th>1</th>\n",
       "      <td>1</td>\n",
       "      <td>Figueroa High School</td>\n",
       "      <td>District</td>\n",
       "      <td>2949</td>\n",
       "      <td>1884411</td>\n",
       "    </tr>\n",
       "    <tr>\n",
       "      <th>2</th>\n",
       "      <td>2</td>\n",
       "      <td>Shelton High School</td>\n",
       "      <td>Charter</td>\n",
       "      <td>1761</td>\n",
       "      <td>1056600</td>\n",
       "    </tr>\n",
       "    <tr>\n",
       "      <th>3</th>\n",
       "      <td>3</td>\n",
       "      <td>Hernandez High School</td>\n",
       "      <td>District</td>\n",
       "      <td>4635</td>\n",
       "      <td>3022020</td>\n",
       "    </tr>\n",
       "    <tr>\n",
       "      <th>4</th>\n",
       "      <td>4</td>\n",
       "      <td>Griffin High School</td>\n",
       "      <td>Charter</td>\n",
       "      <td>1468</td>\n",
       "      <td>917500</td>\n",
       "    </tr>\n",
       "    <tr>\n",
       "      <th>5</th>\n",
       "      <td>5</td>\n",
       "      <td>Wilson High School</td>\n",
       "      <td>Charter</td>\n",
       "      <td>2283</td>\n",
       "      <td>1319574</td>\n",
       "    </tr>\n",
       "    <tr>\n",
       "      <th>6</th>\n",
       "      <td>6</td>\n",
       "      <td>Cabrera High School</td>\n",
       "      <td>Charter</td>\n",
       "      <td>1858</td>\n",
       "      <td>1081356</td>\n",
       "    </tr>\n",
       "    <tr>\n",
       "      <th>7</th>\n",
       "      <td>7</td>\n",
       "      <td>Bailey High School</td>\n",
       "      <td>District</td>\n",
       "      <td>4976</td>\n",
       "      <td>3124928</td>\n",
       "    </tr>\n",
       "    <tr>\n",
       "      <th>8</th>\n",
       "      <td>8</td>\n",
       "      <td>Holden High School</td>\n",
       "      <td>Charter</td>\n",
       "      <td>427</td>\n",
       "      <td>248087</td>\n",
       "    </tr>\n",
       "    <tr>\n",
       "      <th>9</th>\n",
       "      <td>9</td>\n",
       "      <td>Pena High School</td>\n",
       "      <td>Charter</td>\n",
       "      <td>962</td>\n",
       "      <td>585858</td>\n",
       "    </tr>\n",
       "    <tr>\n",
       "      <th>10</th>\n",
       "      <td>10</td>\n",
       "      <td>Wright High School</td>\n",
       "      <td>Charter</td>\n",
       "      <td>1800</td>\n",
       "      <td>1049400</td>\n",
       "    </tr>\n",
       "    <tr>\n",
       "      <th>11</th>\n",
       "      <td>11</td>\n",
       "      <td>Rodriguez High School</td>\n",
       "      <td>District</td>\n",
       "      <td>3999</td>\n",
       "      <td>2547363</td>\n",
       "    </tr>\n",
       "    <tr>\n",
       "      <th>12</th>\n",
       "      <td>12</td>\n",
       "      <td>Johnson High School</td>\n",
       "      <td>District</td>\n",
       "      <td>4761</td>\n",
       "      <td>3094650</td>\n",
       "    </tr>\n",
       "    <tr>\n",
       "      <th>13</th>\n",
       "      <td>13</td>\n",
       "      <td>Ford High School</td>\n",
       "      <td>District</td>\n",
       "      <td>2739</td>\n",
       "      <td>1763916</td>\n",
       "    </tr>\n",
       "    <tr>\n",
       "      <th>14</th>\n",
       "      <td>14</td>\n",
       "      <td>Thomas High School</td>\n",
       "      <td>Charter</td>\n",
       "      <td>1635</td>\n",
       "      <td>1043130</td>\n",
       "    </tr>\n",
       "  </tbody>\n",
       "</table>\n",
       "</div>"
      ],
      "text/plain": [
       "    School ID            school_name      type  size   budget\n",
       "0           0      Huang High School  District  2917  1910635\n",
       "1           1   Figueroa High School  District  2949  1884411\n",
       "2           2    Shelton High School   Charter  1761  1056600\n",
       "3           3  Hernandez High School  District  4635  3022020\n",
       "4           4    Griffin High School   Charter  1468   917500\n",
       "5           5     Wilson High School   Charter  2283  1319574\n",
       "6           6    Cabrera High School   Charter  1858  1081356\n",
       "7           7     Bailey High School  District  4976  3124928\n",
       "8           8     Holden High School   Charter   427   248087\n",
       "9           9       Pena High School   Charter   962   585858\n",
       "10         10     Wright High School   Charter  1800  1049400\n",
       "11         11  Rodriguez High School  District  3999  2547363\n",
       "12         12    Johnson High School  District  4761  3094650\n",
       "13         13       Ford High School  District  2739  1763916\n",
       "14         14     Thomas High School   Charter  1635  1043130"
      ]
     },
     "execution_count": 2,
     "metadata": {},
     "output_type": "execute_result"
    }
   ],
   "source": [
    "school_data.head(20)"
   ]
  },
  {
   "cell_type": "code",
   "execution_count": 3,
   "id": "ac37017d",
   "metadata": {},
   "outputs": [
    {
     "data": {
      "text/plain": [
       "school_name\n",
       "Bailey High School       84.505124\n",
       "Cabrera High School      83.972556\n",
       "Figueroa High School     84.310894\n",
       "Ford High School         84.165687\n",
       "Griffin High School      84.394602\n",
       "Hernandez High School    84.936975\n",
       "Holden High School       85.040506\n",
       "Huang High School        84.240084\n",
       "Johnson High School      84.742448\n",
       "Pena High School         84.719780\n",
       "Rodriguez High School    84.339111\n",
       "Shelton High School      84.326679\n",
       "Thomas High School       84.497705\n",
       "Wilson High School       84.244050\n",
       "Wright High School       84.758929\n",
       "Name: math_score, dtype: float64"
      ]
     },
     "execution_count": 3,
     "metadata": {},
     "output_type": "execute_result"
    }
   ],
   "source": [
    "school_math_scores_mean = school_data_complete[school_data_complete[\"math_score\"] >= 70].groupby('school_name')['math_score'].mean()\n",
    "school_math_scores_mean.head(15)"
   ]
  },
  {
   "cell_type": "code",
   "execution_count": 4,
   "id": "b3aadef1",
   "metadata": {
    "scrolled": true
   },
   "outputs": [
    {
     "data": {
      "text/plain": [
       "15"
      ]
     },
     "execution_count": 4,
     "metadata": {},
     "output_type": "execute_result"
    }
   ],
   "source": [
    "# Calculate the total number of unique schools\n",
    "school_count = school_data[\"school_name\"].count()\n",
    "school_count"
   ]
  },
  {
   "cell_type": "code",
   "execution_count": 5,
   "id": "db3a60ad",
   "metadata": {},
   "outputs": [
    {
     "data": {
      "text/plain": [
       "39170"
      ]
     },
     "execution_count": 5,
     "metadata": {},
     "output_type": "execute_result"
    }
   ],
   "source": [
    "#Calculate the total number of students\n",
    "student_count = school_data[\"size\"].sum()\n",
    "student_count"
   ]
  },
  {
   "cell_type": "code",
   "execution_count": 6,
   "id": "1884b62d",
   "metadata": {},
   "outputs": [
    {
     "data": {
      "text/plain": [
       "24649428"
      ]
     },
     "execution_count": 6,
     "metadata": {},
     "output_type": "execute_result"
    }
   ],
   "source": [
    "#Total budget\n",
    "total_budget = school_data[\"budget\"].sum()\n",
    "total_budget"
   ]
  },
  {
   "cell_type": "code",
   "execution_count": 7,
   "id": "111a1429",
   "metadata": {},
   "outputs": [
    {
     "data": {
      "text/plain": [
       "78.98537145774827"
      ]
     },
     "execution_count": 7,
     "metadata": {},
     "output_type": "execute_result"
    }
   ],
   "source": [
    "#Average math score\n",
    "average_math_score = school_data_complete[\"math_score\"].mean()\n",
    "average_math_score"
   ]
  },
  {
   "cell_type": "code",
   "execution_count": 8,
   "id": "c5dd344b",
   "metadata": {},
   "outputs": [
    {
     "data": {
      "text/plain": [
       "81.87784018381414"
      ]
     },
     "execution_count": 8,
     "metadata": {},
     "output_type": "execute_result"
    }
   ],
   "source": [
    "#Average reading score\n",
    "average_reading_score = school_data_complete[\"reading_score\"].mean()\n",
    "average_reading_score"
   ]
  },
  {
   "cell_type": "code",
   "execution_count": 9,
   "id": "6617d5fd",
   "metadata": {},
   "outputs": [
    {
     "name": "stdout",
     "output_type": "stream",
     "text": [
      "74.9808526933878\n"
     ]
    }
   ],
   "source": [
    "# Use the following to calculate the percentage of students who passed math (math scores greather than or equal to 70)\n",
    "passing_math_count = school_data_complete[(school_data_complete[\"math_score\"] >= 70)].count()[\"student_name\"]\n",
    "passing_math_percentage = passing_math_count / student_count * 100\n",
    "print(passing_math_percentage)"
   ]
  },
  {
   "cell_type": "code",
   "execution_count": 10,
   "id": "5661abd6",
   "metadata": {},
   "outputs": [
    {
     "data": {
      "text/plain": [
       "85.80546336482001"
      ]
     },
     "execution_count": 10,
     "metadata": {},
     "output_type": "execute_result"
    }
   ],
   "source": [
    "# Calculate the percentage of students who passed reading (hint: look at how the math percentage was calculated)  \n",
    "passing_reading_count = school_data_complete[(school_data_complete[\"reading_score\"] >= 70)].count()[\"student_name\"]\n",
    "passing_reading_percentage = passing_reading_count / float(student_count) * 100\n",
    "passing_reading_percentage"
   ]
  },
  {
   "cell_type": "code",
   "execution_count": 11,
   "id": "0919079e",
   "metadata": {},
   "outputs": [
    {
     "data": {
      "text/plain": [
       "65.17232575950983"
      ]
     },
     "execution_count": 11,
     "metadata": {},
     "output_type": "execute_result"
    }
   ],
   "source": [
    "# Use the following to calculate the percentage of students that passed math and reading\n",
    "passing_math_reading_count = school_data_complete[\n",
    "    (school_data_complete[\"math_score\"] >= 70) & (school_data_complete[\"reading_score\"] >= 70)\n",
    "].count()[\"student_name\"]\n",
    "overall_passing_rate = passing_math_reading_count /  float(student_count) * 100\n",
    "overall_passing_rate"
   ]
  },
  {
   "cell_type": "code",
   "execution_count": 12,
   "id": "56b0d8f2",
   "metadata": {},
   "outputs": [
    {
     "data": {
      "text/html": [
       "<div>\n",
       "<style scoped>\n",
       "    .dataframe tbody tr th:only-of-type {\n",
       "        vertical-align: middle;\n",
       "    }\n",
       "\n",
       "    .dataframe tbody tr th {\n",
       "        vertical-align: top;\n",
       "    }\n",
       "\n",
       "    .dataframe thead th {\n",
       "        text-align: right;\n",
       "    }\n",
       "</style>\n",
       "<table border=\"1\" class=\"dataframe\">\n",
       "  <thead>\n",
       "    <tr style=\"text-align: right;\">\n",
       "      <th></th>\n",
       "      <th>Total Schools</th>\n",
       "      <th>Total Students</th>\n",
       "      <th>Total Budget</th>\n",
       "      <th>Average Math Score</th>\n",
       "      <th>Average Reading Score</th>\n",
       "      <th>% Passing Math</th>\n",
       "      <th>% Passing Reading</th>\n",
       "      <th>% Passing Math and Reading</th>\n",
       "    </tr>\n",
       "  </thead>\n",
       "  <tbody>\n",
       "    <tr>\n",
       "      <th>District Summary</th>\n",
       "      <td>15</td>\n",
       "      <td>39,170</td>\n",
       "      <td>$24,649,428.00</td>\n",
       "      <td>78.985371</td>\n",
       "      <td>81.87784</td>\n",
       "      <td>74.980853</td>\n",
       "      <td>85.805463</td>\n",
       "      <td>65.172326</td>\n",
       "    </tr>\n",
       "  </tbody>\n",
       "</table>\n",
       "</div>"
      ],
      "text/plain": [
       "                  Total Schools Total Students    Total Budget  \\\n",
       "District Summary             15         39,170  $24,649,428.00   \n",
       "\n",
       "                  Average Math Score  Average Reading Score  % Passing Math  \\\n",
       "District Summary           78.985371               81.87784       74.980853   \n",
       "\n",
       "                  % Passing Reading  % Passing Math and Reading  \n",
       "District Summary          85.805463                   65.172326  "
      ]
     },
     "execution_count": 12,
     "metadata": {},
     "output_type": "execute_result"
    }
   ],
   "source": [
    "# Create a high-level snapshot of the district's key metrics in a DataFrame\n",
    "district_summary = pd.DataFrame(\n",
    "            {\n",
    "            \"Total Schools\" : [15],\n",
    "            \"Total Students\" : [39170],\n",
    "            \"Total Budget\" : [24649428],\n",
    "            \"Average Math Score\" : [78.98537145774827],\n",
    "            \"Average Reading Score\" : [81.87784018381414],\n",
    "            \"% Passing Math\" : [74.9808526933878],\n",
    "            \"% Passing Reading\" : [85.80546336482001],\n",
    "            \"% Passing Math and Reading\" : [65.17232575950983]   \n",
    "            },\n",
    "            index = [\"District Summary\"])\n",
    "\n",
    "# Formatting\n",
    "district_summary[\"Total Students\"] = district_summary[\"Total Students\"].map(\"{:,}\".format)\n",
    "district_summary[\"Total Budget\"] = district_summary[\"Total Budget\"].map(\"${:,.2f}\".format)\n",
    "\n",
    "# Display the DataFrame\n",
    "district_summary\n"
   ]
  },
  {
   "cell_type": "markdown",
   "id": "ca80aa81",
   "metadata": {},
   "source": [
    "School Summary"
   ]
  },
  {
   "cell_type": "code",
   "execution_count": null,
   "id": "fd404782",
   "metadata": {},
   "outputs": [],
   "source": []
  },
  {
   "cell_type": "code",
   "execution_count": 13,
   "id": "fcfee2fc",
   "metadata": {},
   "outputs": [
    {
     "data": {
      "text/plain": [
       "0         Huang High School\n",
       "1      Figueroa High School\n",
       "2       Shelton High School\n",
       "3     Hernandez High School\n",
       "4       Griffin High School\n",
       "5        Wilson High School\n",
       "6       Cabrera High School\n",
       "7        Bailey High School\n",
       "8        Holden High School\n",
       "9          Pena High School\n",
       "10       Wright High School\n",
       "11    Rodriguez High School\n",
       "12      Johnson High School\n",
       "13         Ford High School\n",
       "14       Thomas High School\n",
       "Name: school_name, dtype: object"
      ]
     },
     "execution_count": 13,
     "metadata": {},
     "output_type": "execute_result"
    }
   ],
   "source": [
    "# School Name\n",
    "school_name = school_data[\"school_name\"]\n",
    "school_name"
   ]
  },
  {
   "cell_type": "code",
   "execution_count": 14,
   "id": "23765db8",
   "metadata": {
    "scrolled": true
   },
   "outputs": [
    {
     "data": {
      "text/plain": [
       "0     District\n",
       "1     District\n",
       "2      Charter\n",
       "3     District\n",
       "4      Charter\n",
       "5      Charter\n",
       "6      Charter\n",
       "7     District\n",
       "8      Charter\n",
       "9      Charter\n",
       "10     Charter\n",
       "11    District\n",
       "12    District\n",
       "13    District\n",
       "14     Charter\n",
       "Name: type, dtype: object"
      ]
     },
     "execution_count": 14,
     "metadata": {},
     "output_type": "execute_result"
    }
   ],
   "source": [
    "# Use the code provided to select all of the school types\n",
    "school_types = school_data[\"type\"]\n",
    "school_types"
   ]
  },
  {
   "cell_type": "code",
   "execution_count": 15,
   "id": "e1fb2e38",
   "metadata": {},
   "outputs": [],
   "source": [
    "school_names = [\"Huang High School\", \"Figueroa High School\", \"Shelton High School\", \"Hernandez High School\",\n",
    "                \"Wilson High School\", \"Cabrera High School\", \"Bailey High School\", \"Holden High School\",\n",
    "                \"Pena High School\", \"Wright High School\", \"Rodriguez High School\", \"Johnson High School\",\n",
    "                \"Ford High School\", \"Thomas High School\"]"
   ]
  },
  {
   "cell_type": "code",
   "execution_count": 16,
   "id": "cea6c557",
   "metadata": {},
   "outputs": [
    {
     "data": {
      "text/plain": [
       "Student Count Per School    int64\n",
       "dtype: object"
      ]
     },
     "execution_count": 16,
     "metadata": {},
     "output_type": "execute_result"
    }
   ],
   "source": [
    "# Calculate the total student count per school\n",
    "student_count = []\n",
    "\n",
    "for school_name in school_names:\n",
    "    school_df = school_data_complete[school_data_complete[\"school_name\"] == school_name]\n",
    "    count = school_df[\"student_name\"].count()\n",
    "    student_count.append(count)\n",
    "\n",
    "student_count_data = { 'Student Count Per School': student_count}\n",
    "per_school_student_count = pd.DataFrame(student_count_data, index=school_names)\n",
    "per_school_student_count.dtypes"
   ]
  },
  {
   "cell_type": "code",
   "execution_count": 17,
   "id": "abee26c7",
   "metadata": {},
   "outputs": [
    {
     "name": "stdout",
     "output_type": "stream",
     "text": [
      "0     1910635\n",
      "1     1884411\n",
      "2     1056600\n",
      "3     3022020\n",
      "4      917500\n",
      "5     1319574\n",
      "6     1081356\n",
      "7     3124928\n",
      "8      248087\n",
      "9      585858\n",
      "10    1049400\n",
      "11    2547363\n",
      "12    3094650\n",
      "13    1763916\n",
      "14    1043130\n",
      "Name: budget, dtype: int64\n",
      "0     655.0\n",
      "1     639.0\n",
      "2     600.0\n",
      "3     652.0\n",
      "4     625.0\n",
      "5     578.0\n",
      "6     582.0\n",
      "7     628.0\n",
      "8     581.0\n",
      "9     609.0\n",
      "10    583.0\n",
      "11    637.0\n",
      "12    650.0\n",
      "13    644.0\n",
      "14    638.0\n",
      "dtype: float64\n"
     ]
    }
   ],
   "source": [
    "# Calculate the total school budget and per capita spending per school\n",
    "per_school_budget = school_data.iloc[:,4]\n",
    "per_school_capita = school_data.iloc[:,4]/school_data.iloc[:,3]\n",
    "print(per_school_budget)\n",
    "print(per_school_capita)"
   ]
  },
  {
   "cell_type": "code",
   "execution_count": 18,
   "id": "c5af24d3",
   "metadata": {
    "scrolled": true
   },
   "outputs": [
    {
     "data": {
      "text/html": [
       "<div>\n",
       "<style scoped>\n",
       "    .dataframe tbody tr th:only-of-type {\n",
       "        vertical-align: middle;\n",
       "    }\n",
       "\n",
       "    .dataframe tbody tr th {\n",
       "        vertical-align: top;\n",
       "    }\n",
       "\n",
       "    .dataframe thead th {\n",
       "        text-align: right;\n",
       "    }\n",
       "</style>\n",
       "<table border=\"1\" class=\"dataframe\">\n",
       "  <thead>\n",
       "    <tr style=\"text-align: right;\">\n",
       "      <th></th>\n",
       "      <th>Reading Score Avg Per School</th>\n",
       "    </tr>\n",
       "  </thead>\n",
       "  <tbody>\n",
       "    <tr>\n",
       "      <th>0</th>\n",
       "      <td>81.182722</td>\n",
       "    </tr>\n",
       "    <tr>\n",
       "      <th>1</th>\n",
       "      <td>81.158020</td>\n",
       "    </tr>\n",
       "    <tr>\n",
       "      <th>2</th>\n",
       "      <td>83.725724</td>\n",
       "    </tr>\n",
       "    <tr>\n",
       "      <th>3</th>\n",
       "      <td>80.934412</td>\n",
       "    </tr>\n",
       "    <tr>\n",
       "      <th>4</th>\n",
       "      <td>83.989488</td>\n",
       "    </tr>\n",
       "    <tr>\n",
       "      <th>5</th>\n",
       "      <td>83.975780</td>\n",
       "    </tr>\n",
       "    <tr>\n",
       "      <th>6</th>\n",
       "      <td>81.033963</td>\n",
       "    </tr>\n",
       "    <tr>\n",
       "      <th>7</th>\n",
       "      <td>83.814988</td>\n",
       "    </tr>\n",
       "    <tr>\n",
       "      <th>8</th>\n",
       "      <td>84.044699</td>\n",
       "    </tr>\n",
       "    <tr>\n",
       "      <th>9</th>\n",
       "      <td>83.955000</td>\n",
       "    </tr>\n",
       "    <tr>\n",
       "      <th>10</th>\n",
       "      <td>80.744686</td>\n",
       "    </tr>\n",
       "    <tr>\n",
       "      <th>11</th>\n",
       "      <td>80.966394</td>\n",
       "    </tr>\n",
       "    <tr>\n",
       "      <th>12</th>\n",
       "      <td>80.746258</td>\n",
       "    </tr>\n",
       "    <tr>\n",
       "      <th>13</th>\n",
       "      <td>83.848930</td>\n",
       "    </tr>\n",
       "  </tbody>\n",
       "</table>\n",
       "</div>"
      ],
      "text/plain": [
       "    Reading Score Avg Per School\n",
       "0                      81.182722\n",
       "1                      81.158020\n",
       "2                      83.725724\n",
       "3                      80.934412\n",
       "4                      83.989488\n",
       "5                      83.975780\n",
       "6                      81.033963\n",
       "7                      83.814988\n",
       "8                      84.044699\n",
       "9                      83.955000\n",
       "10                     80.744686\n",
       "11                     80.966394\n",
       "12                     80.746258\n",
       "13                     83.848930"
      ]
     },
     "execution_count": 18,
     "metadata": {},
     "output_type": "execute_result"
    }
   ],
   "source": [
    "math_score_avg = []\n",
    "# Calculate the average math score for each school\n",
    "for school_name in school_names:\n",
    "    school_df = school_data_complete[school_data_complete[\"school_name\"] == school_name]\n",
    "    avg_score = school_df[\"math_score\"].mean()\n",
    "    math_score_avg.append(avg_score)\n",
    "\n",
    "#print(math_score_avg)\n",
    "# Create a DataFrame to store the results\n",
    "math_score_avg_data = {'Math Score Avg Per School': math_score_avg}\n",
    "per_school_math = pd.DataFrame(math_score_avg_data, index=None)\n",
    "per_school_math\n",
    "\n",
    "reading_score_avg = []\n",
    "# Calculate the average reading score for each school\n",
    "for school_name in school_names:\n",
    "    school_df = school_data_complete[school_data_complete[\"school_name\"] == school_name]\n",
    "    avg_score = school_df[\"reading_score\"].mean()\n",
    "    reading_score_avg.append(avg_score)\n",
    "\n",
    "#print(reading_score_avg)\n",
    "# Create a DataFrame to store the results\n",
    "reading_score_avg_data = {'Reading Score Avg Per School': reading_score_avg}\n",
    "per_school_reading = pd.DataFrame(reading_score_avg_data, index=None)\n",
    "\n",
    "per_school_reading"
   ]
  },
  {
   "cell_type": "code",
   "execution_count": 19,
   "id": "bc828272",
   "metadata": {},
   "outputs": [
    {
     "data": {
      "text/html": [
       "<div>\n",
       "<style scoped>\n",
       "    .dataframe tbody tr th:only-of-type {\n",
       "        vertical-align: middle;\n",
       "    }\n",
       "\n",
       "    .dataframe tbody tr th {\n",
       "        vertical-align: top;\n",
       "    }\n",
       "\n",
       "    .dataframe thead th {\n",
       "        text-align: right;\n",
       "    }\n",
       "</style>\n",
       "<table border=\"1\" class=\"dataframe\">\n",
       "  <thead>\n",
       "    <tr style=\"text-align: right;\">\n",
       "      <th></th>\n",
       "      <th>Per School Math</th>\n",
       "    </tr>\n",
       "  </thead>\n",
       "  <tbody>\n",
       "    <tr>\n",
       "      <th>Huang High School</th>\n",
       "      <td>1916</td>\n",
       "    </tr>\n",
       "    <tr>\n",
       "      <th>Figueroa High School</th>\n",
       "      <td>1946</td>\n",
       "    </tr>\n",
       "    <tr>\n",
       "      <th>Shelton High School</th>\n",
       "      <td>1653</td>\n",
       "    </tr>\n",
       "    <tr>\n",
       "      <th>Hernandez High School</th>\n",
       "      <td>3094</td>\n",
       "    </tr>\n",
       "    <tr>\n",
       "      <th>Wilson High School</th>\n",
       "      <td>2143</td>\n",
       "    </tr>\n",
       "    <tr>\n",
       "      <th>Cabrera High School</th>\n",
       "      <td>1749</td>\n",
       "    </tr>\n",
       "    <tr>\n",
       "      <th>Bailey High School</th>\n",
       "      <td>3318</td>\n",
       "    </tr>\n",
       "    <tr>\n",
       "      <th>Holden High School</th>\n",
       "      <td>395</td>\n",
       "    </tr>\n",
       "    <tr>\n",
       "      <th>Pena High School</th>\n",
       "      <td>910</td>\n",
       "    </tr>\n",
       "    <tr>\n",
       "      <th>Wright High School</th>\n",
       "      <td>1680</td>\n",
       "    </tr>\n",
       "    <tr>\n",
       "      <th>Rodriguez High School</th>\n",
       "      <td>2654</td>\n",
       "    </tr>\n",
       "    <tr>\n",
       "      <th>Johnson High School</th>\n",
       "      <td>3145</td>\n",
       "    </tr>\n",
       "    <tr>\n",
       "      <th>Ford High School</th>\n",
       "      <td>1871</td>\n",
       "    </tr>\n",
       "    <tr>\n",
       "      <th>Thomas High School</th>\n",
       "      <td>1525</td>\n",
       "    </tr>\n",
       "  </tbody>\n",
       "</table>\n",
       "</div>"
      ],
      "text/plain": [
       "                       Per School Math\n",
       "Huang High School                 1916\n",
       "Figueroa High School              1946\n",
       "Shelton High School               1653\n",
       "Hernandez High School             3094\n",
       "Wilson High School                2143\n",
       "Cabrera High School               1749\n",
       "Bailey High School                3318\n",
       "Holden High School                 395\n",
       "Pena High School                   910\n",
       "Wright High School                1680\n",
       "Rodriguez High School             2654\n",
       "Johnson High School               3145\n",
       "Ford High School                  1871\n",
       "Thomas High School                1525"
      ]
     },
     "execution_count": 19,
     "metadata": {},
     "output_type": "execute_result"
    }
   ],
   "source": [
    "# Calculate the number of students per school with math scores of 70 or higher\n",
    "school_passable_math_students = []\n",
    "\n",
    "# Loop through each school and calculate the number of students passing reading\n",
    "for school_name in school_names:\n",
    "    school_df = school_data_complete[school_data_complete[\"school_name\"] == school_name]\n",
    "    students_pass_math = (school_df[\"math_score\"] >= 70).sum()\n",
    "    #school_students_passing_math.append(students_pass_math)\n",
    "    school_passable_math_students.append(students_pass_math)\n",
    "\n",
    "students_passing_math_data = {'Per School Math': school_passable_math_students}\n",
    "school_students_passing_math = pd.DataFrame(students_passing_math_data, index=school_names)\n",
    "students_passing_math=school_students_passing_math[\"Per School Math\"].sum()\n",
    "school_students_passing_math.head(15)\n",
    "#print(students_passing_math)\n",
    "#print(school_students_passing_math)"
   ]
  },
  {
   "cell_type": "code",
   "execution_count": 20,
   "id": "b1237c3d",
   "metadata": {},
   "outputs": [
    {
     "data": {
      "text/html": [
       "<div>\n",
       "<style scoped>\n",
       "    .dataframe tbody tr th:only-of-type {\n",
       "        vertical-align: middle;\n",
       "    }\n",
       "\n",
       "    .dataframe tbody tr th {\n",
       "        vertical-align: top;\n",
       "    }\n",
       "\n",
       "    .dataframe thead th {\n",
       "        text-align: right;\n",
       "    }\n",
       "</style>\n",
       "<table border=\"1\" class=\"dataframe\">\n",
       "  <thead>\n",
       "    <tr style=\"text-align: right;\">\n",
       "      <th></th>\n",
       "      <th>Per School Reading</th>\n",
       "    </tr>\n",
       "  </thead>\n",
       "  <tbody>\n",
       "    <tr>\n",
       "      <th>Huang High School</th>\n",
       "      <td>2372</td>\n",
       "    </tr>\n",
       "    <tr>\n",
       "      <th>Figueroa High School</th>\n",
       "      <td>2381</td>\n",
       "    </tr>\n",
       "    <tr>\n",
       "      <th>Shelton High School</th>\n",
       "      <td>1688</td>\n",
       "    </tr>\n",
       "    <tr>\n",
       "      <th>Hernandez High School</th>\n",
       "      <td>3748</td>\n",
       "    </tr>\n",
       "    <tr>\n",
       "      <th>Wilson High School</th>\n",
       "      <td>2204</td>\n",
       "    </tr>\n",
       "    <tr>\n",
       "      <th>Cabrera High School</th>\n",
       "      <td>1803</td>\n",
       "    </tr>\n",
       "    <tr>\n",
       "      <th>Bailey High School</th>\n",
       "      <td>4077</td>\n",
       "    </tr>\n",
       "    <tr>\n",
       "      <th>Holden High School</th>\n",
       "      <td>411</td>\n",
       "    </tr>\n",
       "    <tr>\n",
       "      <th>Pena High School</th>\n",
       "      <td>923</td>\n",
       "    </tr>\n",
       "    <tr>\n",
       "      <th>Wright High School</th>\n",
       "      <td>1739</td>\n",
       "    </tr>\n",
       "    <tr>\n",
       "      <th>Rodriguez High School</th>\n",
       "      <td>3208</td>\n",
       "    </tr>\n",
       "    <tr>\n",
       "      <th>Johnson High School</th>\n",
       "      <td>3867</td>\n",
       "    </tr>\n",
       "    <tr>\n",
       "      <th>Ford High School</th>\n",
       "      <td>2172</td>\n",
       "    </tr>\n",
       "    <tr>\n",
       "      <th>Thomas High School</th>\n",
       "      <td>1591</td>\n",
       "    </tr>\n",
       "  </tbody>\n",
       "</table>\n",
       "</div>"
      ],
      "text/plain": [
       "                       Per School Reading\n",
       "Huang High School                    2372\n",
       "Figueroa High School                 2381\n",
       "Shelton High School                  1688\n",
       "Hernandez High School                3748\n",
       "Wilson High School                   2204\n",
       "Cabrera High School                  1803\n",
       "Bailey High School                   4077\n",
       "Holden High School                    411\n",
       "Pena High School                      923\n",
       "Wright High School                   1739\n",
       "Rodriguez High School                3208\n",
       "Johnson High School                  3867\n",
       "Ford High School                     2172\n",
       "Thomas High School                   1591"
      ]
     },
     "execution_count": 20,
     "metadata": {},
     "output_type": "execute_result"
    }
   ],
   "source": [
    "school_passable_reading_students = []\n",
    "\n",
    "# Loop through each school and calculate the number of students passing reading\n",
    "for school_name in school_names:\n",
    "    school_df = school_data_complete[school_data_complete[\"school_name\"] == school_name]\n",
    "    students_pass_reading = (school_df[\"reading_score\"] >= 70).sum()\n",
    "    school_passable_reading_students.append(students_pass_reading)\n",
    "\n",
    "# Create a DataFrame to store the results\n",
    "students_passing_reading_data = {'Per School Reading': school_passable_reading_students}\n",
    "school_students_passing_reading = pd.DataFrame(students_passing_reading_data, index=school_names)\n",
    "students_passing_reading=school_students_passing_reading[\"Per School Reading\"].sum()\n",
    "school_students_passing_reading.head(15)\n",
    "# Print the result\n",
    "#print(students_passing_reading)\n",
    "#print(school_students_passing_reading)\n"
   ]
  },
  {
   "cell_type": "code",
   "execution_count": 21,
   "id": "046cb320",
   "metadata": {},
   "outputs": [
    {
     "data": {
      "text/html": [
       "<div>\n",
       "<style scoped>\n",
       "    .dataframe tbody tr th:only-of-type {\n",
       "        vertical-align: middle;\n",
       "    }\n",
       "\n",
       "    .dataframe tbody tr th {\n",
       "        vertical-align: top;\n",
       "    }\n",
       "\n",
       "    .dataframe thead th {\n",
       "        text-align: right;\n",
       "    }\n",
       "</style>\n",
       "<table border=\"1\" class=\"dataframe\">\n",
       "  <thead>\n",
       "    <tr style=\"text-align: right;\">\n",
       "      <th></th>\n",
       "      <th>Students Passing Math and Reading</th>\n",
       "    </tr>\n",
       "  </thead>\n",
       "  <tbody>\n",
       "    <tr>\n",
       "      <th>Huang High School</th>\n",
       "      <td>1561</td>\n",
       "    </tr>\n",
       "    <tr>\n",
       "      <th>Figueroa High School</th>\n",
       "      <td>1569</td>\n",
       "    </tr>\n",
       "    <tr>\n",
       "      <th>Shelton High School</th>\n",
       "      <td>1583</td>\n",
       "    </tr>\n",
       "    <tr>\n",
       "      <th>Hernandez High School</th>\n",
       "      <td>2481</td>\n",
       "    </tr>\n",
       "    <tr>\n",
       "      <th>Wilson High School</th>\n",
       "      <td>2068</td>\n",
       "    </tr>\n",
       "    <tr>\n",
       "      <th>Cabrera High School</th>\n",
       "      <td>1697</td>\n",
       "    </tr>\n",
       "    <tr>\n",
       "      <th>Bailey High School</th>\n",
       "      <td>2719</td>\n",
       "    </tr>\n",
       "    <tr>\n",
       "      <th>Holden High School</th>\n",
       "      <td>381</td>\n",
       "    </tr>\n",
       "    <tr>\n",
       "      <th>Pena High School</th>\n",
       "      <td>871</td>\n",
       "    </tr>\n",
       "    <tr>\n",
       "      <th>Wright High School</th>\n",
       "      <td>1626</td>\n",
       "    </tr>\n",
       "    <tr>\n",
       "      <th>Rodriguez High School</th>\n",
       "      <td>2119</td>\n",
       "    </tr>\n",
       "    <tr>\n",
       "      <th>Johnson High School</th>\n",
       "      <td>2549</td>\n",
       "    </tr>\n",
       "    <tr>\n",
       "      <th>Ford High School</th>\n",
       "      <td>1487</td>\n",
       "    </tr>\n",
       "    <tr>\n",
       "      <th>Thomas High School</th>\n",
       "      <td>1487</td>\n",
       "    </tr>\n",
       "  </tbody>\n",
       "</table>\n",
       "</div>"
      ],
      "text/plain": [
       "                       Students Passing Math and Reading\n",
       "Huang High School                                   1561\n",
       "Figueroa High School                                1569\n",
       "Shelton High School                                 1583\n",
       "Hernandez High School                               2481\n",
       "Wilson High School                                  2068\n",
       "Cabrera High School                                 1697\n",
       "Bailey High School                                  2719\n",
       "Holden High School                                   381\n",
       "Pena High School                                     871\n",
       "Wright High School                                  1626\n",
       "Rodriguez High School                               2119\n",
       "Johnson High School                                 2549\n",
       "Ford High School                                    1487\n",
       "Thomas High School                                  1487"
      ]
     },
     "execution_count": 21,
     "metadata": {},
     "output_type": "execute_result"
    }
   ],
   "source": [
    "# Use the provided code to calculate the number of students per school that passed both math and reading with scores of 70 or higher\n",
    "students_passing_math_and_reading = school_data_complete[\n",
    "    (school_data_complete[\"reading_score\"] >= 70) & (school_data_complete[\"math_score\"] >= 70)\n",
    "]\n",
    "school_students_passing_math_and_reading = students_passing_math_and_reading.groupby([\"school_name\"]).size()\n",
    "students_passing_math_and_reading.head()\n",
    "\n",
    "school_students_passing_math_and_reading_df = pd.DataFrame({'Students Passing Math and Reading': school_students_passing_math_and_reading}, index=school_names)\n",
    "school_students_passing_math_and_reading_df"
   ]
  },
  {
   "cell_type": "code",
   "execution_count": 22,
   "id": "28cad3a2",
   "metadata": {},
   "outputs": [
    {
     "data": {
      "text/plain": [
       "Students Passing Math and Reading    int64\n",
       "dtype: object"
      ]
     },
     "execution_count": 22,
     "metadata": {},
     "output_type": "execute_result"
    }
   ],
   "source": [
    "school_students_passing_math_and_reading_df.dtypes"
   ]
  },
  {
   "cell_type": "code",
   "execution_count": 23,
   "id": "fc3af07c",
   "metadata": {},
   "outputs": [],
   "source": [
    "school_students_passing_math['Per School Math'] = school_students_passing_math['Per School Math'].astype(int)"
   ]
  },
  {
   "cell_type": "code",
   "execution_count": 24,
   "id": "97026dba",
   "metadata": {},
   "outputs": [],
   "source": [
    "school_students_passing_reading['Per School Reading'] = school_students_passing_reading['Per School Reading'].astype(float)"
   ]
  },
  {
   "cell_type": "code",
   "execution_count": 25,
   "id": "ca193491",
   "metadata": {},
   "outputs": [],
   "source": [
    "school_students_passing_math_and_reading_df['Students Passing Math and Reading'] = school_students_passing_math_and_reading_df['Students Passing Math and Reading'] .astype(int)"
   ]
  },
  {
   "cell_type": "code",
   "execution_count": 26,
   "id": "72f63420",
   "metadata": {},
   "outputs": [
    {
     "data": {
      "text/plain": [
       "array([1916, 1946, 1653, 3094, 2143, 1749, 3318,  395,  910, 1680, 2654,\n",
       "       3145, 1871, 1525])"
      ]
     },
     "execution_count": 26,
     "metadata": {},
     "output_type": "execute_result"
    }
   ],
   "source": [
    "school_students_passing_math[\"Per School Math\"].values"
   ]
  },
  {
   "cell_type": "code",
   "execution_count": 27,
   "id": "b6d97f8c",
   "metadata": {},
   "outputs": [
    {
     "data": {
      "text/plain": [
       "array([2372., 2381., 1688., 3748., 2204., 1803., 4077.,  411.,  923.,\n",
       "       1739., 3208., 3867., 2172., 1591.])"
      ]
     },
     "execution_count": 27,
     "metadata": {},
     "output_type": "execute_result"
    }
   ],
   "source": [
    "school_students_passing_reading[\"Per School Reading\"].values"
   ]
  },
  {
   "cell_type": "code",
   "execution_count": 28,
   "id": "31f1ff97",
   "metadata": {},
   "outputs": [
    {
     "data": {
      "text/plain": [
       "array([2917, 2949, 1761, 4635, 2283, 1858, 4976,  427,  962, 1800, 3999,\n",
       "       4761, 2739, 1635])"
      ]
     },
     "execution_count": 28,
     "metadata": {},
     "output_type": "execute_result"
    }
   ],
   "source": [
    "per_school_student_count[\"Student Count Per School\"].values"
   ]
  },
  {
   "cell_type": "code",
   "execution_count": 29,
   "id": "63d3f285",
   "metadata": {
    "scrolled": false
   },
   "outputs": [
    {
     "data": {
      "text/plain": [
       "array([0.65683922, 0.65988471, 0.93867121, 0.66752967, 0.93867718,\n",
       "       0.94133477, 0.66680064, 0.92505855, 0.94594595, 0.93333333,\n",
       "       0.66366592, 0.66057551, 0.68309602, 0.93272171])"
      ]
     },
     "execution_count": 29,
     "metadata": {},
     "output_type": "execute_result"
    }
   ],
   "source": [
    "school_students_passing_math[\"Per School Math\"].values/per_school_student_count['Student Count Per School'].values"
   ]
  },
  {
   "cell_type": "code",
   "execution_count": 30,
   "id": "fa3a38ea",
   "metadata": {},
   "outputs": [
    {
     "data": {
      "text/plain": [
       "array([0.81316421, 0.80739234, 0.95854628, 0.80862999, 0.96539641,\n",
       "       0.97039828, 0.8193328 , 0.96252927, 0.95945946, 0.96611111,\n",
       "       0.80220055, 0.81222432, 0.79299014, 0.97308869])"
      ]
     },
     "execution_count": 30,
     "metadata": {},
     "output_type": "execute_result"
    }
   ],
   "source": [
    "school_students_passing_reading[\"Per School Reading\"].values/per_school_student_count['Student Count Per School'].values"
   ]
  },
  {
   "cell_type": "code",
   "execution_count": 31,
   "id": "f87b6122",
   "metadata": {},
   "outputs": [
    {
     "data": {
      "text/plain": [
       "Huang High School        0.656839\n",
       "Figueroa High School     0.659885\n",
       "Shelton High School      0.938671\n",
       "Hernandez High School    0.667530\n",
       "Wilson High School       0.938677\n",
       "Cabrera High School      0.941335\n",
       "Bailey High School       0.666801\n",
       "Holden High School       0.925059\n",
       "Pena High School         0.945946\n",
       "Wright High School       0.933333\n",
       "Rodriguez High School    0.663666\n",
       "Johnson High School      0.660576\n",
       "Ford High School         0.683096\n",
       "Thomas High School       0.932722\n",
       "Name: Student Count Per School, dtype: float64"
      ]
     },
     "execution_count": 31,
     "metadata": {},
     "output_type": "execute_result"
    }
   ],
   "source": [
    "school_students_passing_math['Per School Math'].rename('Student Count Per School') / per_school_student_count['Student Count Per School']"
   ]
  },
  {
   "cell_type": "code",
   "execution_count": 32,
   "id": "765adfbc",
   "metadata": {
    "scrolled": true
   },
   "outputs": [
    {
     "data": {
      "text/plain": [
       "school_name\n",
       "Bailey High School       84.505124\n",
       "Cabrera High School      83.972556\n",
       "Figueroa High School     84.310894\n",
       "Ford High School         84.165687\n",
       "Griffin High School      84.394602\n",
       "Hernandez High School    84.936975\n",
       "Holden High School       85.040506\n",
       "Huang High School        84.240084\n",
       "Johnson High School      84.742448\n",
       "Pena High School         84.719780\n",
       "Rodriguez High School    84.339111\n",
       "Shelton High School      84.326679\n",
       "Thomas High School       84.497705\n",
       "Wilson High School       84.244050\n",
       "Wright High School       84.758929\n",
       "Name: math_score, dtype: float64"
      ]
     },
     "execution_count": 32,
     "metadata": {},
     "output_type": "execute_result"
    }
   ],
   "source": [
    "school_math_scores_mean = school_data_complete[school_data_complete[\"math_score\"] >= 70].groupby('school_name')['math_score'].mean()\n",
    "school_math_scores_mean.head(15)"
   ]
  },
  {
   "cell_type": "code",
   "execution_count": 33,
   "id": "9112d8ff",
   "metadata": {},
   "outputs": [
    {
     "data": {
      "text/plain": [
       "school_name\n",
       "Bailey High School       84.362521\n",
       "Cabrera High School      84.432612\n",
       "Figueroa High School     84.767745\n",
       "Ford High School         84.612799\n",
       "Griffin High School      84.253156\n",
       "Hernandez High School    84.483725\n",
       "Holden High School       84.391727\n",
       "Huang High School        84.691400\n",
       "Johnson High School      84.430566\n",
       "Pena High School         84.680390\n",
       "Rodriguez High School    84.374377\n",
       "Shelton High School      84.362559\n",
       "Thomas High School       84.259585\n",
       "Wilson High School       84.526770\n",
       "Wright High School       84.479586\n",
       "Name: reading_score, dtype: float64"
      ]
     },
     "execution_count": 33,
     "metadata": {},
     "output_type": "execute_result"
    }
   ],
   "source": [
    "school_reading_scores_mean = school_data_complete[school_data_complete[\"reading_score\"] >= 70].groupby('school_name')['reading_score'].mean()\n",
    "school_reading_scores_mean.head(15)"
   ]
  },
  {
   "cell_type": "code",
   "execution_count": 34,
   "id": "6315d739",
   "metadata": {
    "scrolled": true
   },
   "outputs": [
    {
     "data": {
      "text/html": [
       "<div>\n",
       "<style scoped>\n",
       "    .dataframe tbody tr th:only-of-type {\n",
       "        vertical-align: middle;\n",
       "    }\n",
       "\n",
       "    .dataframe tbody tr th {\n",
       "        vertical-align: top;\n",
       "    }\n",
       "\n",
       "    .dataframe thead th {\n",
       "        text-align: right;\n",
       "    }\n",
       "</style>\n",
       "<table border=\"1\" class=\"dataframe\">\n",
       "  <thead>\n",
       "    <tr style=\"text-align: right;\">\n",
       "      <th></th>\n",
       "      <th>Per School Math</th>\n",
       "      <th>Percentage Passing Math</th>\n",
       "    </tr>\n",
       "  </thead>\n",
       "  <tbody>\n",
       "    <tr>\n",
       "      <th>Huang High School</th>\n",
       "      <td>1916</td>\n",
       "      <td>65.683922</td>\n",
       "    </tr>\n",
       "    <tr>\n",
       "      <th>Figueroa High School</th>\n",
       "      <td>1946</td>\n",
       "      <td>65.988471</td>\n",
       "    </tr>\n",
       "    <tr>\n",
       "      <th>Shelton High School</th>\n",
       "      <td>1653</td>\n",
       "      <td>93.867121</td>\n",
       "    </tr>\n",
       "    <tr>\n",
       "      <th>Hernandez High School</th>\n",
       "      <td>3094</td>\n",
       "      <td>66.752967</td>\n",
       "    </tr>\n",
       "    <tr>\n",
       "      <th>Wilson High School</th>\n",
       "      <td>2143</td>\n",
       "      <td>93.867718</td>\n",
       "    </tr>\n",
       "    <tr>\n",
       "      <th>Cabrera High School</th>\n",
       "      <td>1749</td>\n",
       "      <td>94.133477</td>\n",
       "    </tr>\n",
       "    <tr>\n",
       "      <th>Bailey High School</th>\n",
       "      <td>3318</td>\n",
       "      <td>66.680064</td>\n",
       "    </tr>\n",
       "    <tr>\n",
       "      <th>Holden High School</th>\n",
       "      <td>395</td>\n",
       "      <td>92.505855</td>\n",
       "    </tr>\n",
       "    <tr>\n",
       "      <th>Pena High School</th>\n",
       "      <td>910</td>\n",
       "      <td>94.594595</td>\n",
       "    </tr>\n",
       "    <tr>\n",
       "      <th>Wright High School</th>\n",
       "      <td>1680</td>\n",
       "      <td>93.333333</td>\n",
       "    </tr>\n",
       "    <tr>\n",
       "      <th>Rodriguez High School</th>\n",
       "      <td>2654</td>\n",
       "      <td>66.366592</td>\n",
       "    </tr>\n",
       "    <tr>\n",
       "      <th>Johnson High School</th>\n",
       "      <td>3145</td>\n",
       "      <td>66.057551</td>\n",
       "    </tr>\n",
       "    <tr>\n",
       "      <th>Ford High School</th>\n",
       "      <td>1871</td>\n",
       "      <td>68.309602</td>\n",
       "    </tr>\n",
       "    <tr>\n",
       "      <th>Thomas High School</th>\n",
       "      <td>1525</td>\n",
       "      <td>93.272171</td>\n",
       "    </tr>\n",
       "  </tbody>\n",
       "</table>\n",
       "</div>"
      ],
      "text/plain": [
       "                       Per School Math  Percentage Passing Math\n",
       "Huang High School                 1916                65.683922\n",
       "Figueroa High School              1946                65.988471\n",
       "Shelton High School               1653                93.867121\n",
       "Hernandez High School             3094                66.752967\n",
       "Wilson High School                2143                93.867718\n",
       "Cabrera High School               1749                94.133477\n",
       "Bailey High School                3318                66.680064\n",
       "Holden High School                 395                92.505855\n",
       "Pena High School                   910                94.594595\n",
       "Wright High School                1680                93.333333\n",
       "Rodriguez High School             2654                66.366592\n",
       "Johnson High School               3145                66.057551\n",
       "Ford High School                  1871                68.309602\n",
       "Thomas High School                1525                93.272171"
      ]
     },
     "execution_count": 34,
     "metadata": {},
     "output_type": "execute_result"
    }
   ],
   "source": [
    "school_students_passing_math['Percentage Passing Math'] = (school_students_passing_math['Per School Math'] / per_school_student_count['Student Count Per School']) * 100\n",
    "school_students_passing_math.head(15)"
   ]
  },
  {
   "cell_type": "code",
   "execution_count": 35,
   "id": "41c7049a",
   "metadata": {},
   "outputs": [],
   "source": [
    "school_students_passing_reading['Per School Reading'] = school_students_passing_reading['Per School Reading'].astype(int)"
   ]
  },
  {
   "cell_type": "code",
   "execution_count": 36,
   "id": "93e84bc0",
   "metadata": {
    "scrolled": true
   },
   "outputs": [
    {
     "data": {
      "text/plain": [
       "dtype('int64')"
      ]
     },
     "execution_count": 36,
     "metadata": {},
     "output_type": "execute_result"
    }
   ],
   "source": [
    "per_school_student_count['Student Count Per School'].dtype"
   ]
  },
  {
   "cell_type": "code",
   "execution_count": 37,
   "id": "e18dcb49",
   "metadata": {},
   "outputs": [
    {
     "data": {
      "text/plain": [
       "dtype('int64')"
      ]
     },
     "execution_count": 37,
     "metadata": {},
     "output_type": "execute_result"
    }
   ],
   "source": [
    "school_students_passing_reading['Per School Reading'].dtype"
   ]
  },
  {
   "cell_type": "code",
   "execution_count": 38,
   "id": "a136c6d1",
   "metadata": {},
   "outputs": [
    {
     "data": {
      "text/plain": [
       "school_name\n",
       "Bailey High School      84.362521\n",
       "Cabrera High School     84.432612\n",
       "Figueroa High School    84.767745\n",
       "Ford High School        84.612799\n",
       "Griffin High School     84.253156\n",
       "Name: reading_score, dtype: float64"
      ]
     },
     "execution_count": 38,
     "metadata": {},
     "output_type": "execute_result"
    }
   ],
   "source": [
    "school_reading_scores_mean = school_data_complete[school_data_complete[\"reading_score\"] >= 70].groupby('school_name')['reading_score'].mean()\n",
    "school_reading_scores_mean.head()"
   ]
  },
  {
   "cell_type": "code",
   "execution_count": 48,
   "id": "43040173",
   "metadata": {},
   "outputs": [
    {
     "name": "stdout",
     "output_type": "stream",
     "text": [
      "Huang High School        81.316421\n",
      "Figueroa High School     80.739234\n",
      "Shelton High School      95.854628\n",
      "Hernandez High School    80.862999\n",
      "Wilson High School       96.539641\n",
      "Cabrera High School      97.039828\n",
      "Bailey High School       81.933280\n",
      "Holden High School       96.252927\n",
      "Pena High School         95.945946\n",
      "Wright High School       96.611111\n",
      "Rodriguez High School    80.220055\n",
      "Johnson High School      81.222432\n",
      "Ford High School         79.299014\n",
      "Thomas High School       97.308869\n",
      "dtype: float64\n",
      "Huang High School        65.683922\n",
      "Figueroa High School     65.988471\n",
      "Shelton High School      93.867121\n",
      "Hernandez High School    66.752967\n",
      "Wilson High School       93.867718\n",
      "Cabrera High School      94.133477\n",
      "Bailey High School       66.680064\n",
      "Holden High School       92.505855\n",
      "Pena High School         94.594595\n",
      "Wright High School       93.333333\n",
      "Rodriguez High School    66.366592\n",
      "Johnson High School      66.057551\n",
      "Ford High School         68.309602\n",
      "Thomas High School       93.272171\n",
      "dtype: float64\n"
     ]
    },
    {
     "data": {
      "text/plain": [
       "Huang High School        53.513884\n",
       "Figueroa High School     53.204476\n",
       "Shelton High School      89.892107\n",
       "Hernandez High School    53.527508\n",
       "Wilson High School       90.582567\n",
       "Cabrera High School      91.334769\n",
       "Bailey High School       54.642283\n",
       "Holden High School       89.227166\n",
       "Pena High School         90.540541\n",
       "Wright High School       90.333333\n",
       "Rodriguez High School    52.988247\n",
       "Johnson High School      53.539172\n",
       "Ford High School         54.289887\n",
       "Thomas High School       90.948012\n",
       "dtype: float64"
      ]
     },
     "execution_count": 48,
     "metadata": {},
     "output_type": "execute_result"
    }
   ],
   "source": [
    "# Use the provided code to calculate the passing rates\n",
    "#per_school_passing_math =  school_students_passing_math / per_school_student_count * 100\n",
    "per_school_passing_math= (school_students_passing_math['Per School Math'] / per_school_student_count['Student Count Per School']) * 100\n",
    "per_school_passing_reading =(school_students_passing_reading['Per School Reading'] / per_school_student_count['Student Count Per School']) * 100\n",
    "overall_passing_rate = (school_students_passing_math_and_reading_df['Students Passing Math and Reading'] / per_school_student_count['Student Count Per School']) * 100\n",
    "#per_school_student_count.dtypes\n",
    "#school_students_passing_math.shape()\n",
    "#per_school_student_count.dtypes\n",
    "print(per_school_passing_reading)\n",
    "print(per_school_passing_math)\n",
    "overall_passing_rate.head(15)"
   ]
  },
  {
   "cell_type": "code",
   "execution_count": 49,
   "id": "3f004be4",
   "metadata": {},
   "outputs": [
    {
     "ename": "SyntaxError",
     "evalue": "invalid syntax (2536131374.py, line 2)",
     "output_type": "error",
     "traceback": [
      "\u001b[0;36m  Cell \u001b[0;32mIn[49], line 2\u001b[0;36m\u001b[0m\n\u001b[0;31m    per_school_summary =\u001b[0m\n\u001b[0m                         ^\u001b[0m\n\u001b[0;31mSyntaxError\u001b[0m\u001b[0;31m:\u001b[0m invalid syntax\n"
     ]
    }
   ],
   "source": [
    "# Create a DataFrame called `per_school_summary` with columns for the calculations above.\n",
    "per_school_summary = \n",
    "\n",
    "# Formatting\n",
    "per_school_summary[\"Total School Budget\"] = per_school_summary[\"Total School Budget\"].map(\"${:,.2f}\".format)\n",
    "per_school_summary[\"Per Student Budget\"] = per_school_summary[\"Per Student Budget\"].map(\"${:,.2f}\".format)\n",
    "\n",
    "# Display the DataFrame\n",
    "per_school_summary"
   ]
  },
  {
   "cell_type": "markdown",
   "id": "e33a2f27",
   "metadata": {},
   "source": [
    "## Highest-Performing Schools (by % Overall Passing)\n"
   ]
  },
  {
   "cell_type": "code",
   "execution_count": null,
   "id": "08163b63",
   "metadata": {},
   "outputs": [],
   "source": [
    "# Sort the schools by `% Overall Passing` in descending order and display the top 5 rows.\n",
    "top_schools = \n",
    "top_schools.head(5)"
   ]
  },
  {
   "cell_type": "markdown",
   "id": "9f1426d0",
   "metadata": {},
   "source": [
    "## Bottom Performing Schools (By % Overall Passing)"
   ]
  },
  {
   "cell_type": "code",
   "execution_count": null,
   "id": "34a90bce",
   "metadata": {},
   "outputs": [],
   "source": [
    "# Use the code provided to separate the data by grade\n",
    "ninth_graders = school_data_complete[(school_data_complete[\"grade\"] == \"9th\")]\n",
    "tenth_graders = school_data_complete[(school_data_complete[\"grade\"] == \"10th\")]\n",
    "eleventh_graders = school_data_complete[(school_data_complete[\"grade\"] == \"11th\")]\n",
    "twelfth_graders = school_data_complete[(school_data_complete[\"grade\"] == \"12th\")]\n",
    "\n",
    "# Group by `school_name` and take the mean of the `math_score` column for each.\n",
    "ninth_grade_math_scores = \n",
    "tenth_grader_math_scores = \n",
    "eleventh_grader_math_scores = \n",
    "twelfth_grader_math_scores = \n",
    "\n",
    "# Combine each of the scores above into single DataFrame called `math_scores_by_grade`\n",
    "math_scores_by_grade = \n",
    "\n",
    "# Minor data wrangling\n",
    "math_scores_by_grade.index.name = None\n",
    "\n",
    "# Display the DataFrame\n",
    "math_scores_by_grade"
   ]
  },
  {
   "cell_type": "code",
   "execution_count": null,
   "id": "18b9282f",
   "metadata": {},
   "outputs": [],
   "source": []
  }
 ],
 "metadata": {
  "kernelspec": {
   "display_name": "Python 3 (ipykernel)",
   "language": "python",
   "name": "python3"
  },
  "language_info": {
   "codemirror_mode": {
    "name": "ipython",
    "version": 3
   },
   "file_extension": ".py",
   "mimetype": "text/x-python",
   "name": "python",
   "nbconvert_exporter": "python",
   "pygments_lexer": "ipython3",
   "version": "3.10.13"
  }
 },
 "nbformat": 4,
 "nbformat_minor": 5
}
